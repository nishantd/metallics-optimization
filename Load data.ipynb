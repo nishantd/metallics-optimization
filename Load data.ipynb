{
 "cells": [
  {
   "cell_type": "code",
   "execution_count": 1,
   "metadata": {},
   "outputs": [],
   "source": [
    "#all needed imports\n",
    "\n",
    "import json  \n",
    "import pandas as pd\n",
    "import numpy as np \n",
    "from pandas.io.json import json_normalize \n",
    "\n",
    "#from sklearn.model_selection import train_test_split \n",
    "#from sklearn.linear_model import LinearRegression\n",
    "#from sklearn import metrics\n",
    "\n",
    "from scipy.optimize import curve_fit\n",
    "import scipy\n",
    "\n",
    "from pulp import *"
   ]
  },
  {
   "cell_type": "code",
   "execution_count": 2,
   "metadata": {},
   "outputs": [],
   "source": [
    "##JSON paths\n",
    "PATH_PREV_HEATS = 'data/1/previous_heats_with_properties.json'\n",
    "PATH_CONSTRAINS = 'data/1/constraints.json'\n",
    "PATH_PROD_SCHED = 'data/1/production_schedule.json'\n",
    "PATH_SCRAP_INV = 'data/1/scrap_inventory.json'\n",
    "PATH_SCRAP_ORD = 'data/1/scrap_orders.json'"
   ]
  },
  {
   "cell_type": "code",
   "execution_count": 3,
   "metadata": {},
   "outputs": [],
   "source": [
    "#function to load jsons to df\n",
    "def loadjsons(jsonpath, **kwargs):\n",
    "    if 'table_name' in kwargs:\n",
    "        with open(jsonpath) as prev_heats:\n",
    "            prev_heats = json.load(prev_heats)\n",
    "        prev_heats = json_normalize(data = prev_heats[kwargs[\"table_name\"]])\n",
    "    else:\n",
    "        with open(jsonpath) as prev_heats:\n",
    "            prev_heats = json.load(prev_heats)\n",
    "        prev_heats = json_normalize(data = prev_heats)\n",
    "    return prev_heats"
   ]
  },
  {
   "cell_type": "code",
   "execution_count": 4,
   "metadata": {},
   "outputs": [],
   "source": [
    "#laod all jsons\n",
    "prev_heats = loadjsons(PATH_PREV_HEATS)\n",
    "constriants = loadjsons(PATH_CONSTRAINS, **{'table_name': \"scrap_type_constraints_per_heat\"})\n",
    "prod_sched = loadjsons(PATH_PROD_SCHED)\n",
    "scrap_inv = loadjsons(PATH_SCRAP_INV)\n",
    "scrap_ord = loadjsons(PATH_SCRAP_ORD)\n"
   ]
  },
  {
   "cell_type": "code",
   "execution_count": 5,
   "metadata": {},
   "outputs": [
    {
     "data": {
      "text/html": [
       "<div>\n",
       "<style scoped>\n",
       "    .dataframe tbody tr th:only-of-type {\n",
       "        vertical-align: middle;\n",
       "    }\n",
       "\n",
       "    .dataframe tbody tr th {\n",
       "        vertical-align: top;\n",
       "    }\n",
       "\n",
       "    .dataframe thead th {\n",
       "        text-align: right;\n",
       "    }\n",
       "</style>\n",
       "<table border=\"1\" class=\"dataframe\">\n",
       "  <thead>\n",
       "    <tr style=\"text-align: right;\">\n",
       "      <th></th>\n",
       "      <th>scrap_type</th>\n",
       "      <th>type</th>\n",
       "      <th>weight</th>\n",
       "    </tr>\n",
       "  </thead>\n",
       "  <tbody>\n",
       "    <tr>\n",
       "      <th>0</th>\n",
       "      <td>bushlings</td>\n",
       "      <td>minimum</td>\n",
       "      <td>200</td>\n",
       "    </tr>\n",
       "    <tr>\n",
       "      <th>1</th>\n",
       "      <td>pig_iron</td>\n",
       "      <td>minimum</td>\n",
       "      <td>100</td>\n",
       "    </tr>\n",
       "    <tr>\n",
       "      <th>2</th>\n",
       "      <td>pig_iron</td>\n",
       "      <td>maximum</td>\n",
       "      <td>300</td>\n",
       "    </tr>\n",
       "  </tbody>\n",
       "</table>\n",
       "</div>"
      ],
      "text/plain": [
       "  scrap_type     type  weight\n",
       "0  bushlings  minimum     200\n",
       "1   pig_iron  minimum     100\n",
       "2   pig_iron  maximum     300"
      ]
     },
     "execution_count": 5,
     "metadata": {},
     "output_type": "execute_result"
    }
   ],
   "source": [
    "constriants.head()"
   ]
  },
  {
   "cell_type": "code",
   "execution_count": 6,
   "metadata": {},
   "outputs": [
    {
     "data": {
      "text/html": [
       "<div>\n",
       "<style scoped>\n",
       "    .dataframe tbody tr th:only-of-type {\n",
       "        vertical-align: middle;\n",
       "    }\n",
       "\n",
       "    .dataframe tbody tr th {\n",
       "        vertical-align: top;\n",
       "    }\n",
       "\n",
       "    .dataframe thead th {\n",
       "        text-align: right;\n",
       "    }\n",
       "</style>\n",
       "<table border=\"1\" class=\"dataframe\">\n",
       "  <thead>\n",
       "    <tr style=\"text-align: right;\">\n",
       "      <th></th>\n",
       "      <th>heat_seq</th>\n",
       "      <th>heat_id</th>\n",
       "      <th>steel_grade</th>\n",
       "      <th>required_weight</th>\n",
       "      <th>chemistry.cu_pct</th>\n",
       "    </tr>\n",
       "  </thead>\n",
       "  <tbody>\n",
       "    <tr>\n",
       "      <th>0</th>\n",
       "      <td>101</td>\n",
       "      <td>heat-1001</td>\n",
       "      <td>ST1</td>\n",
       "      <td>1000</td>\n",
       "      <td>0.1</td>\n",
       "    </tr>\n",
       "    <tr>\n",
       "      <th>1</th>\n",
       "      <td>101</td>\n",
       "      <td>heat-1002</td>\n",
       "      <td>ST1</td>\n",
       "      <td>1000</td>\n",
       "      <td>0.1</td>\n",
       "    </tr>\n",
       "    <tr>\n",
       "      <th>2</th>\n",
       "      <td>101</td>\n",
       "      <td>heat-1003</td>\n",
       "      <td>ST1</td>\n",
       "      <td>1000</td>\n",
       "      <td>0.1</td>\n",
       "    </tr>\n",
       "    <tr>\n",
       "      <th>3</th>\n",
       "      <td>101</td>\n",
       "      <td>heat-1004</td>\n",
       "      <td>ST1</td>\n",
       "      <td>1000</td>\n",
       "      <td>0.1</td>\n",
       "    </tr>\n",
       "    <tr>\n",
       "      <th>4</th>\n",
       "      <td>101</td>\n",
       "      <td>heat-1005</td>\n",
       "      <td>ST1</td>\n",
       "      <td>1000</td>\n",
       "      <td>0.1</td>\n",
       "    </tr>\n",
       "  </tbody>\n",
       "</table>\n",
       "</div>"
      ],
      "text/plain": [
       "   heat_seq    heat_id steel_grade  required_weight  chemistry.cu_pct\n",
       "0       101  heat-1001         ST1             1000               0.1\n",
       "1       101  heat-1002         ST1             1000               0.1\n",
       "2       101  heat-1003         ST1             1000               0.1\n",
       "3       101  heat-1004         ST1             1000               0.1\n",
       "4       101  heat-1005         ST1             1000               0.1"
      ]
     },
     "execution_count": 6,
     "metadata": {},
     "output_type": "execute_result"
    }
   ],
   "source": [
    "prod_sched.head()"
   ]
  },
  {
   "cell_type": "code",
   "execution_count": 7,
   "metadata": {},
   "outputs": [
    {
     "data": {
      "text/html": [
       "<div>\n",
       "<style scoped>\n",
       "    .dataframe tbody tr th:only-of-type {\n",
       "        vertical-align: middle;\n",
       "    }\n",
       "\n",
       "    .dataframe tbody tr th {\n",
       "        vertical-align: top;\n",
       "    }\n",
       "\n",
       "    .dataframe thead th {\n",
       "        text-align: right;\n",
       "    }\n",
       "</style>\n",
       "<table border=\"1\" class=\"dataframe\">\n",
       "  <thead>\n",
       "    <tr style=\"text-align: right;\">\n",
       "      <th></th>\n",
       "      <th>scrap_type</th>\n",
       "      <th>status</th>\n",
       "      <th>weight</th>\n",
       "    </tr>\n",
       "  </thead>\n",
       "  <tbody>\n",
       "    <tr>\n",
       "      <th>0</th>\n",
       "      <td>bushling</td>\n",
       "      <td>on_hand</td>\n",
       "      <td>5000</td>\n",
       "    </tr>\n",
       "    <tr>\n",
       "      <th>1</th>\n",
       "      <td>pig_iron</td>\n",
       "      <td>on_hand</td>\n",
       "      <td>1500</td>\n",
       "    </tr>\n",
       "    <tr>\n",
       "      <th>2</th>\n",
       "      <td>municipal_shred</td>\n",
       "      <td>on_hand</td>\n",
       "      <td>12000</td>\n",
       "    </tr>\n",
       "    <tr>\n",
       "      <th>3</th>\n",
       "      <td>skulls</td>\n",
       "      <td>on_hand</td>\n",
       "      <td>8000</td>\n",
       "    </tr>\n",
       "  </tbody>\n",
       "</table>\n",
       "</div>"
      ],
      "text/plain": [
       "        scrap_type   status  weight\n",
       "0         bushling  on_hand    5000\n",
       "1         pig_iron  on_hand    1500\n",
       "2  municipal_shred  on_hand   12000\n",
       "3           skulls  on_hand    8000"
      ]
     },
     "execution_count": 7,
     "metadata": {},
     "output_type": "execute_result"
    }
   ],
   "source": [
    "scrap_inv.head()"
   ]
  },
  {
   "cell_type": "code",
   "execution_count": 8,
   "metadata": {},
   "outputs": [
    {
     "data": {
      "text/html": [
       "<div>\n",
       "<style scoped>\n",
       "    .dataframe tbody tr th:only-of-type {\n",
       "        vertical-align: middle;\n",
       "    }\n",
       "\n",
       "    .dataframe tbody tr th {\n",
       "        vertical-align: top;\n",
       "    }\n",
       "\n",
       "    .dataframe thead th {\n",
       "        text-align: right;\n",
       "    }\n",
       "</style>\n",
       "<table border=\"1\" class=\"dataframe\">\n",
       "  <thead>\n",
       "    <tr style=\"text-align: right;\">\n",
       "      <th></th>\n",
       "      <th>scrap_type</th>\n",
       "      <th>order_date</th>\n",
       "      <th>status</th>\n",
       "      <th>weight</th>\n",
       "      <th>price_per_ton</th>\n",
       "    </tr>\n",
       "  </thead>\n",
       "  <tbody>\n",
       "    <tr>\n",
       "      <th>0</th>\n",
       "      <td>bushling</td>\n",
       "      <td>20191005</td>\n",
       "      <td>delivered</td>\n",
       "      <td>600</td>\n",
       "      <td>75</td>\n",
       "    </tr>\n",
       "    <tr>\n",
       "      <th>1</th>\n",
       "      <td>bushling</td>\n",
       "      <td>20191010</td>\n",
       "      <td>delivered</td>\n",
       "      <td>1000</td>\n",
       "      <td>90</td>\n",
       "    </tr>\n",
       "    <tr>\n",
       "      <th>2</th>\n",
       "      <td>bushling</td>\n",
       "      <td>20191014</td>\n",
       "      <td>delivered</td>\n",
       "      <td>500</td>\n",
       "      <td>95</td>\n",
       "    </tr>\n",
       "    <tr>\n",
       "      <th>3</th>\n",
       "      <td>bushling</td>\n",
       "      <td>20191020</td>\n",
       "      <td>delivered</td>\n",
       "      <td>1000</td>\n",
       "      <td>85</td>\n",
       "    </tr>\n",
       "    <tr>\n",
       "      <th>4</th>\n",
       "      <td>bushling</td>\n",
       "      <td>20191022</td>\n",
       "      <td>delivered</td>\n",
       "      <td>1500</td>\n",
       "      <td>95</td>\n",
       "    </tr>\n",
       "  </tbody>\n",
       "</table>\n",
       "</div>"
      ],
      "text/plain": [
       "  scrap_type order_date     status  weight  price_per_ton\n",
       "0   bushling   20191005  delivered     600             75\n",
       "1   bushling   20191010  delivered    1000             90\n",
       "2   bushling   20191014  delivered     500             95\n",
       "3   bushling   20191020  delivered    1000             85\n",
       "4   bushling   20191022  delivered    1500             95"
      ]
     },
     "execution_count": 8,
     "metadata": {},
     "output_type": "execute_result"
    }
   ],
   "source": [
    "scrap_ord.head()"
   ]
  },
  {
   "cell_type": "code",
   "execution_count": 9,
   "metadata": {},
   "outputs": [
    {
     "data": {
      "text/plain": [
       "scrap_type\n",
       "bushling            88.333333\n",
       "municipal_shred     41.666667\n",
       "pig_iron           154.166667\n",
       "skulls              71.666667\n",
       "Name: price_per_ton, dtype: float64"
      ]
     },
     "execution_count": 9,
     "metadata": {},
     "output_type": "execute_result"
    }
   ],
   "source": [
    "#calculate average (mean) price per (groupby) scrap type\n",
    "scrap_prices = scrap_ord.groupby('scrap_type')['price_per_ton'].mean()\n",
    "scrap_prices.head()"
   ]
  },
  {
   "cell_type": "code",
   "execution_count": 10,
   "metadata": {},
   "outputs": [],
   "source": [
    "X_yld = np.squeeze(np.transpose(prev_heats[['actual_recipe.bushling','actual_recipe.pig_iron','actual_recipe.municipal_shred','actual_recipe.skulls']].values))\n",
    "y_yld = np.squeeze(np.transpose(prev_heats.loc[:, ['tap_weight']].values))"
   ]
  },
  {
   "cell_type": "code",
   "execution_count": 11,
   "metadata": {},
   "outputs": [
    {
     "name": "stdout",
     "output_type": "stream",
     "text": [
      "[0.8630296  0.92084372 0.92571253 0.87668814]\n",
      "[[ 9.34450172e-03 -2.35926274e-05 -1.08220229e-03 -8.36256810e-03]\n",
      " [-2.35926274e-05  1.98668610e-04 -1.82431159e-03  2.69224581e-03]\n",
      " [-1.08220229e-03 -1.82431159e-03  1.87503063e-02 -2.54214283e-02]\n",
      " [-8.36256810e-03  2.69224581e-03 -2.54214283e-02  4.52260411e-02]]\n",
      "[0.09666696 0.01409499 0.13693176 0.21266415]\n"
     ]
    }
   ],
   "source": [
    "def fn(x, b, c, d, e):\n",
    "    return b*x[0] + c*x[1] + d*x[2] + e*x[3]\n",
    "\n",
    "popt_yld, pcov_yld = curve_fit(fn, X_yld, y_yld, bounds=(0, 1))\n",
    "print(popt_yld)\n",
    "print(pcov_yld)\n",
    "\n",
    "#standard deviation errors\n",
    "p_sigma = np.sqrt(np.diag(pcov_yld))\n",
    "print(p_sigma)"
   ]
  },
  {
   "cell_type": "code",
   "execution_count": 12,
   "metadata": {},
   "outputs": [],
   "source": [
    "yield_bushling = popt_yld[0]\n",
    "yield_pig_iron = popt_yld[1]\n",
    "yield_municipal_shred = popt_yld[2]\n",
    "yield_skulls = popt_yld[3]"
   ]
  },
  {
   "cell_type": "code",
   "execution_count": 13,
   "metadata": {},
   "outputs": [],
   "source": [
    "#get input X and output y values for mutli linear regression model\n",
    "X_cu = np.squeeze(np.transpose(prev_heats[['actual_recipe.bushling','actual_recipe.pig_iron','actual_recipe.municipal_shred','actual_recipe.skulls']].values))\n",
    "y_cu = np.squeeze(np.transpose(prev_heats.loc[:, ['chemistry.cu_pct']].values*prev_heats.loc[:, ['tap_weight']].values))"
   ]
  },
  {
   "cell_type": "code",
   "execution_count": 14,
   "metadata": {},
   "outputs": [
    {
     "name": "stdout",
     "output_type": "stream",
     "text": [
      "[2.51540639e-17 1.18978344e-20 1.40471495e-01 2.99624460e-01]\n",
      "[[ 2.10824214e+13 -8.39748397e+13  1.96548638e+13  2.07539640e+13]\n",
      " [-8.39748397e+13  3.34485948e+14 -7.82886371e+13 -8.26665385e+13]\n",
      " [ 1.96548638e+13 -7.82886371e+13  1.83239706e+13  1.93486473e+13]\n",
      " [ 2.07539640e+13 -8.26665385e+13  1.93486473e+13  2.04306238e+13]]\n",
      "[ 4591559.7951727  18288957.00831324  4280650.72718589  4520024.76162259]\n"
     ]
    }
   ],
   "source": [
    "def fn(x, b, c, d, e):\n",
    "    return yield_bushling*b*x[0] + yield_pig_iron*c*x[1] + yield_municipal_shred*d*x[2] + yield_skulls*e*x[3]\n",
    "\n",
    "#covaraince = average distance from regression line?\n",
    "popt_cu, pcov_cu = curve_fit(fn, X_cu, y_cu, bounds=(0, 1))\n",
    "print(popt_cu)\n",
    "print(pcov_cu)\n",
    "\n",
    "#standard deviation errors\n",
    "p_sigma = np.sqrt(np.diag(pcov_cu))\n",
    "print(p_sigma)"
   ]
  },
  {
   "cell_type": "code",
   "execution_count": 15,
   "metadata": {},
   "outputs": [],
   "source": [
    "cu_bushling = popt_cu[0]\n",
    "cu_pig_iron = 0\n",
    "cu_municipal_shred = popt_cu[1]\n",
    "cu_skulls = popt_cu[2]"
   ]
  },
  {
   "cell_type": "code",
   "execution_count": 16,
   "metadata": {},
   "outputs": [
    {
     "data": {
      "text/plain": [
       "scrap_type\n",
       "bushling            88.333333\n",
       "municipal_shred     41.666667\n",
       "pig_iron           154.166667\n",
       "skulls              71.666667\n",
       "Name: price_per_ton, dtype: float64"
      ]
     },
     "execution_count": 16,
     "metadata": {},
     "output_type": "execute_result"
    }
   ],
   "source": [
    "scrap_prices.head()"
   ]
  },
  {
   "cell_type": "code",
   "execution_count": 17,
   "metadata": {},
   "outputs": [
    {
     "data": {
      "text/html": [
       "<div>\n",
       "<style scoped>\n",
       "    .dataframe tbody tr th:only-of-type {\n",
       "        vertical-align: middle;\n",
       "    }\n",
       "\n",
       "    .dataframe tbody tr th {\n",
       "        vertical-align: top;\n",
       "    }\n",
       "\n",
       "    .dataframe thead th {\n",
       "        text-align: right;\n",
       "    }\n",
       "</style>\n",
       "<table border=\"1\" class=\"dataframe\">\n",
       "  <thead>\n",
       "    <tr style=\"text-align: right;\">\n",
       "      <th></th>\n",
       "      <th>required_weight</th>\n",
       "    </tr>\n",
       "  </thead>\n",
       "  <tbody>\n",
       "    <tr>\n",
       "      <th>0</th>\n",
       "      <td>1000</td>\n",
       "    </tr>\n",
       "    <tr>\n",
       "      <th>1</th>\n",
       "      <td>1000</td>\n",
       "    </tr>\n",
       "    <tr>\n",
       "      <th>2</th>\n",
       "      <td>1000</td>\n",
       "    </tr>\n",
       "    <tr>\n",
       "      <th>3</th>\n",
       "      <td>1000</td>\n",
       "    </tr>\n",
       "    <tr>\n",
       "      <th>4</th>\n",
       "      <td>1000</td>\n",
       "    </tr>\n",
       "  </tbody>\n",
       "</table>\n",
       "</div>"
      ],
      "text/plain": [
       "   required_weight\n",
       "0             1000\n",
       "1             1000\n",
       "2             1000\n",
       "3             1000\n",
       "4             1000"
      ]
     },
     "execution_count": 17,
     "metadata": {},
     "output_type": "execute_result"
    }
   ],
   "source": [
    "wgt_delta = pd.DataFrame({'required_weight' : []})\n",
    "wgt_delta['required_weight'] = prev_heats['required_weight']\n",
    "wgt_delta.head()"
   ]
  },
  {
   "cell_type": "code",
   "execution_count": 18,
   "metadata": {},
   "outputs": [
    {
     "data": {
      "text/html": [
       "<div>\n",
       "<style scoped>\n",
       "    .dataframe tbody tr th:only-of-type {\n",
       "        vertical-align: middle;\n",
       "    }\n",
       "\n",
       "    .dataframe tbody tr th {\n",
       "        vertical-align: top;\n",
       "    }\n",
       "\n",
       "    .dataframe thead th {\n",
       "        text-align: right;\n",
       "    }\n",
       "</style>\n",
       "<table border=\"1\" class=\"dataframe\">\n",
       "  <thead>\n",
       "    <tr style=\"text-align: right;\">\n",
       "      <th></th>\n",
       "      <th>required_weight</th>\n",
       "      <th>sum_scrap_wgt</th>\n",
       "    </tr>\n",
       "  </thead>\n",
       "  <tbody>\n",
       "    <tr>\n",
       "      <th>0</th>\n",
       "      <td>1000</td>\n",
       "      <td>1050</td>\n",
       "    </tr>\n",
       "    <tr>\n",
       "      <th>1</th>\n",
       "      <td>1000</td>\n",
       "      <td>1050</td>\n",
       "    </tr>\n",
       "    <tr>\n",
       "      <th>2</th>\n",
       "      <td>1000</td>\n",
       "      <td>1050</td>\n",
       "    </tr>\n",
       "    <tr>\n",
       "      <th>3</th>\n",
       "      <td>1000</td>\n",
       "      <td>1050</td>\n",
       "    </tr>\n",
       "    <tr>\n",
       "      <th>4</th>\n",
       "      <td>1000</td>\n",
       "      <td>1050</td>\n",
       "    </tr>\n",
       "  </tbody>\n",
       "</table>\n",
       "</div>"
      ],
      "text/plain": [
       "   required_weight  sum_scrap_wgt\n",
       "0             1000           1050\n",
       "1             1000           1050\n",
       "2             1000           1050\n",
       "3             1000           1050\n",
       "4             1000           1050"
      ]
     },
     "execution_count": 18,
     "metadata": {},
     "output_type": "execute_result"
    }
   ],
   "source": [
    "wgt_delta['sum_scrap_wgt'] = prev_heats[['actual_recipe.bushling','actual_recipe.pig_iron','actual_recipe.municipal_shred','actual_recipe.skulls']].sum(axis=1)\n",
    "wgt_delta.head()"
   ]
  },
  {
   "cell_type": "code",
   "execution_count": 19,
   "metadata": {},
   "outputs": [
    {
     "data": {
      "text/html": [
       "<div>\n",
       "<style scoped>\n",
       "    .dataframe tbody tr th:only-of-type {\n",
       "        vertical-align: middle;\n",
       "    }\n",
       "\n",
       "    .dataframe tbody tr th {\n",
       "        vertical-align: top;\n",
       "    }\n",
       "\n",
       "    .dataframe thead th {\n",
       "        text-align: right;\n",
       "    }\n",
       "</style>\n",
       "<table border=\"1\" class=\"dataframe\">\n",
       "  <thead>\n",
       "    <tr style=\"text-align: right;\">\n",
       "      <th></th>\n",
       "      <th>required_weight</th>\n",
       "      <th>sum_scrap_wgt</th>\n",
       "      <th>delta</th>\n",
       "    </tr>\n",
       "  </thead>\n",
       "  <tbody>\n",
       "    <tr>\n",
       "      <th>0</th>\n",
       "      <td>1000</td>\n",
       "      <td>1050</td>\n",
       "      <td>50</td>\n",
       "    </tr>\n",
       "    <tr>\n",
       "      <th>1</th>\n",
       "      <td>1000</td>\n",
       "      <td>1050</td>\n",
       "      <td>50</td>\n",
       "    </tr>\n",
       "    <tr>\n",
       "      <th>2</th>\n",
       "      <td>1000</td>\n",
       "      <td>1050</td>\n",
       "      <td>50</td>\n",
       "    </tr>\n",
       "    <tr>\n",
       "      <th>3</th>\n",
       "      <td>1000</td>\n",
       "      <td>1050</td>\n",
       "      <td>50</td>\n",
       "    </tr>\n",
       "    <tr>\n",
       "      <th>4</th>\n",
       "      <td>1000</td>\n",
       "      <td>1050</td>\n",
       "      <td>50</td>\n",
       "    </tr>\n",
       "    <tr>\n",
       "      <th>5</th>\n",
       "      <td>1200</td>\n",
       "      <td>1050</td>\n",
       "      <td>-150</td>\n",
       "    </tr>\n",
       "    <tr>\n",
       "      <th>6</th>\n",
       "      <td>1200</td>\n",
       "      <td>1050</td>\n",
       "      <td>-150</td>\n",
       "    </tr>\n",
       "    <tr>\n",
       "      <th>7</th>\n",
       "      <td>1200</td>\n",
       "      <td>1050</td>\n",
       "      <td>-150</td>\n",
       "    </tr>\n",
       "    <tr>\n",
       "      <th>8</th>\n",
       "      <td>1200</td>\n",
       "      <td>1050</td>\n",
       "      <td>-150</td>\n",
       "    </tr>\n",
       "    <tr>\n",
       "      <th>9</th>\n",
       "      <td>1200</td>\n",
       "      <td>1050</td>\n",
       "      <td>-150</td>\n",
       "    </tr>\n",
       "    <tr>\n",
       "      <th>10</th>\n",
       "      <td>1200</td>\n",
       "      <td>1050</td>\n",
       "      <td>-150</td>\n",
       "    </tr>\n",
       "    <tr>\n",
       "      <th>11</th>\n",
       "      <td>1100</td>\n",
       "      <td>1050</td>\n",
       "      <td>-50</td>\n",
       "    </tr>\n",
       "    <tr>\n",
       "      <th>12</th>\n",
       "      <td>1100</td>\n",
       "      <td>1050</td>\n",
       "      <td>-50</td>\n",
       "    </tr>\n",
       "    <tr>\n",
       "      <th>13</th>\n",
       "      <td>1100</td>\n",
       "      <td>1050</td>\n",
       "      <td>-50</td>\n",
       "    </tr>\n",
       "    <tr>\n",
       "      <th>14</th>\n",
       "      <td>1100</td>\n",
       "      <td>1050</td>\n",
       "      <td>-50</td>\n",
       "    </tr>\n",
       "  </tbody>\n",
       "</table>\n",
       "</div>"
      ],
      "text/plain": [
       "    required_weight  sum_scrap_wgt  delta\n",
       "0              1000           1050     50\n",
       "1              1000           1050     50\n",
       "2              1000           1050     50\n",
       "3              1000           1050     50\n",
       "4              1000           1050     50\n",
       "5              1200           1050   -150\n",
       "6              1200           1050   -150\n",
       "7              1200           1050   -150\n",
       "8              1200           1050   -150\n",
       "9              1200           1050   -150\n",
       "10             1200           1050   -150\n",
       "11             1100           1050    -50\n",
       "12             1100           1050    -50\n",
       "13             1100           1050    -50\n",
       "14             1100           1050    -50"
      ]
     },
     "execution_count": 19,
     "metadata": {},
     "output_type": "execute_result"
    }
   ],
   "source": [
    "wgt_delta['delta'] = wgt_delta['sum_scrap_wgt'] - wgt_delta['required_weight']\n",
    "wgt_delta"
   ]
  },
  {
   "cell_type": "code",
   "execution_count": 20,
   "metadata": {},
   "outputs": [],
   "source": [
    "wgt_lower_tolerance = wgt_delta['delta'].min() if wgt_delta['delta'].min() <= 0 else 0\n",
    "wgt_upper_tolerance = wgt_delta['delta'].max()"
   ]
  },
  {
   "cell_type": "code",
   "execution_count": 21,
   "metadata": {},
   "outputs": [],
   "source": [
    "scrap_inv.head()\n",
    "bushlings_inventory = scrap_inv.loc[scrap_inv['scrap_type'] == 'bushling', 'weight'].values[0]\n",
    "pig_iron_inventory = scrap_inv.loc[scrap_inv['scrap_type'] == 'pig_iron', 'weight'].values[0]\n",
    "municipal_shred_inventory = scrap_inv.loc[scrap_inv['scrap_type'] == 'municipal_shred', 'weight'].values[0]\n",
    "skulls_inventory = scrap_inv.loc[scrap_inv['scrap_type'] == 'skulls', 'weight'].values[0]"
   ]
  },
  {
   "cell_type": "code",
   "execution_count": 22,
   "metadata": {},
   "outputs": [
    {
     "name": "stdout",
     "output_type": "stream",
     "text": [
      "5000\n"
     ]
    }
   ],
   "source": [
    "print(bushlings_inventory)"
   ]
  },
  {
   "cell_type": "code",
   "execution_count": 23,
   "metadata": {},
   "outputs": [],
   "source": [
    "some_tap_weight = 1050 #required weight\n",
    "some_tap_weight_upper_bound = some_tap_weight + wgt_upper_tolerance\n",
    "some_tap_weight_lower_bound = some_tap_weight + wgt_lower_tolerance\n",
    "cu_steel_grade = 0.15\n",
    "calculated_tap_weight = 990\n",
    "cu_content_abs = cu_steel_grade*calculated_tap_weight"
   ]
  },
  {
   "cell_type": "code",
   "execution_count": 24,
   "metadata": {},
   "outputs": [
    {
     "data": {
      "text/plain": [
       "1"
      ]
     },
     "execution_count": 24,
     "metadata": {},
     "output_type": "execute_result"
    }
   ],
   "source": [
    "# Create the 'prob' variable to contain the problem data\n",
    "prob = LpProblem(\"Cost of Scrap in Steel Grade Recipes\", LpMinimize)\n",
    "\n",
    "# Create problem variables\n",
    "bushlings_wgt=LpVariable(\"bushlings_wgt\",lowBound=200,upBound=None, cat='Continuous')\n",
    "pig_iron_wgt=LpVariable(\"pig_iron_wgt\",lowBound=100, upBound=300, cat='Continuous')\n",
    "municipal_shred_wgt=LpVariable(\"municipal_shred_wgt\",lowBound=0,upBound=None, cat='Continuous')\n",
    "skulls_wgt=LpVariable(\"skulls_wgt\",lowBound=0, upBound=None, cat='Continuous')\n",
    "\n",
    "yield_bushling = popt_yld[0]\n",
    "yield_pig_iron = popt_yld[1]\n",
    "yield_municipal_shred = popt_yld[2]\n",
    "yield_skulls = popt_yld[3]\n",
    "\n",
    "# The objective function is added to 'prob' first\n",
    "prob += scrap_prices.bushling*bushlings_wgt + scrap_prices.pig_iron*pig_iron_wgt + scrap_prices.municipal_shred*municipal_shred_wgt + scrap_prices.skulls*skulls_wgt, \"cost; to be minimized\"\n",
    "\n",
    "# The constraints are entered\n",
    "prob += bushlings_wgt + pig_iron_wgt + municipal_shred_wgt + skulls_wgt >= some_tap_weight_lower_bound, \"lower bound of required weight\"\n",
    "prob += bushlings_wgt + pig_iron_wgt + municipal_shred_wgt + skulls_wgt <= some_tap_weight_upper_bound, \"upper bound of required weight\"\n",
    "prob += yield_bushling*cu_bushling*bushlings_wgt + yield_pig_iron*cu_pig_iron*pig_iron_wgt + yield_municipal_shred*cu_municipal_shred*municipal_shred_wgt + yield_skulls*cu_skulls*skulls_wgt <= cu_content_abs, \"Cu constraint\"\n",
    "prob += bushlings_inventory - bushlings_wgt >= 0 , \"bushlings inventory constraint\"\n",
    "prob += pig_iron_inventory - pig_iron_wgt >= 0, \"pig_iron inventory constraint\"\n",
    "prob += municipal_shred_inventory - municipal_shred_wgt >= 0, \"municipal_shred inventory constraint\"\n",
    "prob += skulls_inventory - skulls_wgt >= 0, \"skulls inventory constraint\"\n",
    "\n",
    "# The problem data is written to an .lp file\n",
    "prob.writeLP(\"Scrap_recipes.lp\")\n",
    "\n",
    "# The problem is solved using PuLP's choice of Solver\n",
    "prob.solve()"
   ]
  },
  {
   "cell_type": "code",
   "execution_count": 25,
   "metadata": {},
   "outputs": [
    {
     "name": "stdout",
     "output_type": "stream",
     "text": [
      "bushlings_wgt = 200.0\n",
      "municipal_shred_wgt = 600.0\n",
      "pig_iron_wgt = 100.0\n",
      "skulls_wgt = 0.0\n"
     ]
    }
   ],
   "source": [
    "for v in prob.variables():\n",
    "    print(v.name, \"=\", v.varValue)"
   ]
  },
  {
   "cell_type": "code",
   "execution_count": null,
   "metadata": {},
   "outputs": [],
   "source": []
  }
 ],
 "metadata": {
  "kernelspec": {
   "display_name": "Python 3",
   "language": "python",
   "name": "python3"
  },
  "language_info": {
   "codemirror_mode": {
    "name": "ipython",
    "version": 3
   },
   "file_extension": ".py",
   "mimetype": "text/x-python",
   "name": "python",
   "nbconvert_exporter": "python",
   "pygments_lexer": "ipython3",
   "version": "3.7.3"
  },
  "pycharm": {
   "stem_cell": {
    "cell_type": "raw",
    "metadata": {
     "collapsed": false
    },
    "source": []
   }
  }
 },
 "nbformat": 4,
 "nbformat_minor": 2
}
