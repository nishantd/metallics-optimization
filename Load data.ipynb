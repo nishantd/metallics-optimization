{
 "cells": [
  {
   "cell_type": "code",
   "execution_count": 1,
   "metadata": {},
   "outputs": [],
   "source": [
    "import json  \n",
    "import pandas as pd\n",
    "import numpy as np \n",
    "from pandas.io.json import json_normalize  \n",
    "from sklearn.model_selection import train_test_split \n",
    "from sklearn.linear_model import LinearRegression\n",
    "from sklearn import metrics"
   ]
  },
  {
   "cell_type": "code",
   "execution_count": 2,
   "metadata": {},
   "outputs": [],
   "source": [
    "##JSON paths\n",
    "PATH_PREV_HEATS = 'data/1/previous_heats_with_properties.json'\n",
    "PATH_CONSTRAINS = 'data/1/constraints.json'\n",
    "PATH_PROD_SCHED = 'data/1/production_schedule.json'\n",
    "PATH_SCRAP_INV = 'data/1/scrap_inventory.json'\n",
    "PATH_SCRAP_ORD = 'data/1/scrap_orders.json'"
   ]
  },
  {
   "cell_type": "code",
   "execution_count": 5,
   "metadata": {},
   "outputs": [],
   "source": [
    "def loadjsons(jsonpath, **kwargs):\n",
    "    if 'table_name' in kwargs:\n",
    "        with open(jsonpath) as prev_heats:\n",
    "            prev_heats = json.load(prev_heats)\n",
    "        prev_heats = json_normalize(data = prev_heats[kwargs[\"table_name\"]])\n",
    "    else:\n",
    "        with open(jsonpath) as prev_heats:\n",
    "            prev_heats = json.load(prev_heats)\n",
    "        prev_heats = json_normalize(data = prev_heats)\n",
    "    return prev_heats"
   ]
  },
  {
   "cell_type": "code",
   "execution_count": 8,
   "metadata": {},
   "outputs": [],
   "source": [
    "prev_heats = loadjsons(PATH_PREV_HEATS)\n",
    "constriants = loadjsons(PATH_CONSTRAINS, **{'table_name': \"scrap_type_constraints_per_heat\"})\n",
    "prod_sched = loadjsons(PATH_PROD_SCHED)\n",
    "scrap_inv = loadjsons(PATH_SCRAP_INV)\n",
    "scrap_ord = loadjsons(PATH_SCRAP_ORD)\n"
   ]
  },
  {
   "cell_type": "code",
   "execution_count": 9,
   "metadata": {},
   "outputs": [
    {
     "data": {
      "text/html": [
       "<div>\n",
       "<style scoped>\n",
       "    .dataframe tbody tr th:only-of-type {\n",
       "        vertical-align: middle;\n",
       "    }\n",
       "\n",
       "    .dataframe tbody tr th {\n",
       "        vertical-align: top;\n",
       "    }\n",
       "\n",
       "    .dataframe thead th {\n",
       "        text-align: right;\n",
       "    }\n",
       "</style>\n",
       "<table border=\"1\" class=\"dataframe\">\n",
       "  <thead>\n",
       "    <tr style=\"text-align: right;\">\n",
       "      <th></th>\n",
       "      <th>scrap_type</th>\n",
       "      <th>type</th>\n",
       "      <th>weight</th>\n",
       "    </tr>\n",
       "  </thead>\n",
       "  <tbody>\n",
       "    <tr>\n",
       "      <th>0</th>\n",
       "      <td>bushlings</td>\n",
       "      <td>minimum</td>\n",
       "      <td>200</td>\n",
       "    </tr>\n",
       "    <tr>\n",
       "      <th>1</th>\n",
       "      <td>pig_iron</td>\n",
       "      <td>minimum</td>\n",
       "      <td>100</td>\n",
       "    </tr>\n",
       "    <tr>\n",
       "      <th>2</th>\n",
       "      <td>pig_iron</td>\n",
       "      <td>maximum</td>\n",
       "      <td>300</td>\n",
       "    </tr>\n",
       "  </tbody>\n",
       "</table>\n",
       "</div>"
      ],
      "text/plain": [
       "  scrap_type     type  weight\n",
       "0  bushlings  minimum     200\n",
       "1   pig_iron  minimum     100\n",
       "2   pig_iron  maximum     300"
      ]
     },
     "execution_count": 9,
     "metadata": {},
     "output_type": "execute_result"
    }
   ],
   "source": [
    "constriants.head()"
   ]
  },
  {
   "cell_type": "code",
   "execution_count": 10,
   "metadata": {},
   "outputs": [
    {
     "data": {
      "text/html": [
       "<div>\n",
       "<style scoped>\n",
       "    .dataframe tbody tr th:only-of-type {\n",
       "        vertical-align: middle;\n",
       "    }\n",
       "\n",
       "    .dataframe tbody tr th {\n",
       "        vertical-align: top;\n",
       "    }\n",
       "\n",
       "    .dataframe thead th {\n",
       "        text-align: right;\n",
       "    }\n",
       "</style>\n",
       "<table border=\"1\" class=\"dataframe\">\n",
       "  <thead>\n",
       "    <tr style=\"text-align: right;\">\n",
       "      <th></th>\n",
       "      <th>heat_seq</th>\n",
       "      <th>heat_id</th>\n",
       "      <th>steel_grade</th>\n",
       "      <th>required_weight</th>\n",
       "      <th>chemistry.cu_pct</th>\n",
       "    </tr>\n",
       "  </thead>\n",
       "  <tbody>\n",
       "    <tr>\n",
       "      <th>0</th>\n",
       "      <td>101</td>\n",
       "      <td>heat-1001</td>\n",
       "      <td>ST1</td>\n",
       "      <td>1000</td>\n",
       "      <td>0.1</td>\n",
       "    </tr>\n",
       "    <tr>\n",
       "      <th>1</th>\n",
       "      <td>101</td>\n",
       "      <td>heat-1002</td>\n",
       "      <td>ST1</td>\n",
       "      <td>1000</td>\n",
       "      <td>0.1</td>\n",
       "    </tr>\n",
       "    <tr>\n",
       "      <th>2</th>\n",
       "      <td>101</td>\n",
       "      <td>heat-1003</td>\n",
       "      <td>ST1</td>\n",
       "      <td>1000</td>\n",
       "      <td>0.1</td>\n",
       "    </tr>\n",
       "    <tr>\n",
       "      <th>3</th>\n",
       "      <td>101</td>\n",
       "      <td>heat-1004</td>\n",
       "      <td>ST1</td>\n",
       "      <td>1000</td>\n",
       "      <td>0.1</td>\n",
       "    </tr>\n",
       "    <tr>\n",
       "      <th>4</th>\n",
       "      <td>101</td>\n",
       "      <td>heat-1005</td>\n",
       "      <td>ST1</td>\n",
       "      <td>1000</td>\n",
       "      <td>0.1</td>\n",
       "    </tr>\n",
       "  </tbody>\n",
       "</table>\n",
       "</div>"
      ],
      "text/plain": [
       "   heat_seq    heat_id steel_grade  required_weight  chemistry.cu_pct\n",
       "0       101  heat-1001         ST1             1000               0.1\n",
       "1       101  heat-1002         ST1             1000               0.1\n",
       "2       101  heat-1003         ST1             1000               0.1\n",
       "3       101  heat-1004         ST1             1000               0.1\n",
       "4       101  heat-1005         ST1             1000               0.1"
      ]
     },
     "execution_count": 10,
     "metadata": {},
     "output_type": "execute_result"
    }
   ],
   "source": [
    "prod_sched.head()"
   ]
  },
  {
   "cell_type": "code",
   "execution_count": 11,
   "metadata": {},
   "outputs": [
    {
     "data": {
      "text/html": [
       "<div>\n",
       "<style scoped>\n",
       "    .dataframe tbody tr th:only-of-type {\n",
       "        vertical-align: middle;\n",
       "    }\n",
       "\n",
       "    .dataframe tbody tr th {\n",
       "        vertical-align: top;\n",
       "    }\n",
       "\n",
       "    .dataframe thead th {\n",
       "        text-align: right;\n",
       "    }\n",
       "</style>\n",
       "<table border=\"1\" class=\"dataframe\">\n",
       "  <thead>\n",
       "    <tr style=\"text-align: right;\">\n",
       "      <th></th>\n",
       "      <th>scrap_type</th>\n",
       "      <th>status</th>\n",
       "      <th>weight</th>\n",
       "    </tr>\n",
       "  </thead>\n",
       "  <tbody>\n",
       "    <tr>\n",
       "      <th>0</th>\n",
       "      <td>bushling</td>\n",
       "      <td>on_hand</td>\n",
       "      <td>5000</td>\n",
       "    </tr>\n",
       "    <tr>\n",
       "      <th>1</th>\n",
       "      <td>pig_iron</td>\n",
       "      <td>on_hand</td>\n",
       "      <td>1500</td>\n",
       "    </tr>\n",
       "    <tr>\n",
       "      <th>2</th>\n",
       "      <td>municipal_shred</td>\n",
       "      <td>on_hand</td>\n",
       "      <td>12000</td>\n",
       "    </tr>\n",
       "    <tr>\n",
       "      <th>3</th>\n",
       "      <td>skulls</td>\n",
       "      <td>on_hand</td>\n",
       "      <td>8000</td>\n",
       "    </tr>\n",
       "  </tbody>\n",
       "</table>\n",
       "</div>"
      ],
      "text/plain": [
       "        scrap_type   status  weight\n",
       "0         bushling  on_hand    5000\n",
       "1         pig_iron  on_hand    1500\n",
       "2  municipal_shred  on_hand   12000\n",
       "3           skulls  on_hand    8000"
      ]
     },
     "execution_count": 11,
     "metadata": {},
     "output_type": "execute_result"
    }
   ],
   "source": [
    "scrap_inv.head()"
   ]
  },
  {
   "cell_type": "code",
   "execution_count": 12,
   "metadata": {},
   "outputs": [
    {
     "data": {
      "text/html": [
       "<div>\n",
       "<style scoped>\n",
       "    .dataframe tbody tr th:only-of-type {\n",
       "        vertical-align: middle;\n",
       "    }\n",
       "\n",
       "    .dataframe tbody tr th {\n",
       "        vertical-align: top;\n",
       "    }\n",
       "\n",
       "    .dataframe thead th {\n",
       "        text-align: right;\n",
       "    }\n",
       "</style>\n",
       "<table border=\"1\" class=\"dataframe\">\n",
       "  <thead>\n",
       "    <tr style=\"text-align: right;\">\n",
       "      <th></th>\n",
       "      <th>scrap_type</th>\n",
       "      <th>order_date</th>\n",
       "      <th>status</th>\n",
       "      <th>weight</th>\n",
       "      <th>price_per_ton</th>\n",
       "    </tr>\n",
       "  </thead>\n",
       "  <tbody>\n",
       "    <tr>\n",
       "      <th>0</th>\n",
       "      <td>bushling</td>\n",
       "      <td>20191005</td>\n",
       "      <td>delivered</td>\n",
       "      <td>600</td>\n",
       "      <td>75</td>\n",
       "    </tr>\n",
       "    <tr>\n",
       "      <th>1</th>\n",
       "      <td>bushling</td>\n",
       "      <td>20191010</td>\n",
       "      <td>delivered</td>\n",
       "      <td>1000</td>\n",
       "      <td>90</td>\n",
       "    </tr>\n",
       "    <tr>\n",
       "      <th>2</th>\n",
       "      <td>bushling</td>\n",
       "      <td>20191014</td>\n",
       "      <td>delivered</td>\n",
       "      <td>500</td>\n",
       "      <td>95</td>\n",
       "    </tr>\n",
       "    <tr>\n",
       "      <th>3</th>\n",
       "      <td>bushling</td>\n",
       "      <td>20191020</td>\n",
       "      <td>delivered</td>\n",
       "      <td>1000</td>\n",
       "      <td>85</td>\n",
       "    </tr>\n",
       "    <tr>\n",
       "      <th>4</th>\n",
       "      <td>bushling</td>\n",
       "      <td>20191022</td>\n",
       "      <td>delivered</td>\n",
       "      <td>1500</td>\n",
       "      <td>95</td>\n",
       "    </tr>\n",
       "  </tbody>\n",
       "</table>\n",
       "</div>"
      ],
      "text/plain": [
       "  scrap_type order_date     status  weight  price_per_ton\n",
       "0   bushling   20191005  delivered     600             75\n",
       "1   bushling   20191010  delivered    1000             90\n",
       "2   bushling   20191014  delivered     500             95\n",
       "3   bushling   20191020  delivered    1000             85\n",
       "4   bushling   20191022  delivered    1500             95"
      ]
     },
     "execution_count": 12,
     "metadata": {},
     "output_type": "execute_result"
    }
   ],
   "source": [
    "scrap_ord.head()"
   ]
  },
  {
   "cell_type": "code",
   "execution_count": 13,
   "metadata": {},
   "outputs": [
    {
     "data": {
      "text/plain": [
       "scrap_type\n",
       "bushling            88.333333\n",
       "municipal_shred     41.666667\n",
       "pig_iron           154.166667\n",
       "skulls              71.666667\n",
       "Name: price_per_ton, dtype: float64"
      ]
     },
     "execution_count": 13,
     "metadata": {},
     "output_type": "execute_result"
    }
   ],
   "source": [
    "scrap_prices = scrap_ord.groupby('scrap_type')['price_per_ton'].mean()\n",
    "scrap_prices.head()"
   ]
  },
  {
   "cell_type": "code",
   "execution_count": 36,
   "metadata": {},
   "outputs": [],
   "source": [
    "X = prev_heats[['actual_recipe.bushling','actual_recipe.municipal_shred','actual_recipe.skulls']]\n",
    "y = prev_heats.loc[:, ['chemistry.cu_pct']]"
   ]
  },
  {
   "cell_type": "code",
   "execution_count": 37,
   "metadata": {},
   "outputs": [
    {
     "name": "stdout",
     "output_type": "stream",
     "text": [
      "    actual_recipe.bushling  actual_recipe.municipal_shred  \\\n",
      "0                      300                            350   \n",
      "1                      300                            300   \n",
      "2                      300                            300   \n",
      "3                      300                            350   \n",
      "4                      300                            350   \n",
      "5                      275                            350   \n",
      "6                      275                            350   \n",
      "7                      250                            350   \n",
      "8                      250                            350   \n",
      "9                      250                            350   \n",
      "10                     250                            350   \n",
      "11                     200                            400   \n",
      "12                     200                            400   \n",
      "13                     200                            400   \n",
      "14                     200                            400   \n",
      "\n",
      "    actual_recipe.skulls  \n",
      "0                    200  \n",
      "1                    250  \n",
      "2                    250  \n",
      "3                    200  \n",
      "4                    200  \n",
      "5                    225  \n",
      "6                    225  \n",
      "7                    250  \n",
      "8                    250  \n",
      "9                    250  \n",
      "10                   250  \n",
      "11                   250  \n",
      "12                   250  \n",
      "13                   250  \n",
      "14                   250  \n",
      "    chemistry.cu_pct\n",
      "0              0.095\n",
      "1              0.104\n",
      "2              0.105\n",
      "3              0.089\n",
      "4              0.093\n",
      "5              0.102\n",
      "6              0.114\n",
      "7              0.118\n",
      "8              0.124\n",
      "9              0.121\n",
      "10             0.115\n",
      "11             0.127\n",
      "12             0.133\n",
      "13             0.140\n",
      "14             0.138\n"
     ]
    }
   ],
   "source": [
    "print(X)\n",
    "print(y)"
   ]
  },
  {
   "cell_type": "code",
   "execution_count": 38,
   "metadata": {},
   "outputs": [],
   "source": [
    "X_train, X_test, y_train, y_test = train_test_split(X.values, y.values, test_size=0.2, random_state=0)"
   ]
  },
  {
   "cell_type": "code",
   "execution_count": 39,
   "metadata": {},
   "outputs": [
    {
     "data": {
      "text/plain": [
       "LinearRegression(copy_X=True, fit_intercept=False, n_jobs=None, normalize=False)"
      ]
     },
     "execution_count": 39,
     "metadata": {},
     "output_type": "execute_result"
    }
   ],
   "source": [
    "CUregressor = LinearRegression(fit_intercept=False)\n",
    "CUregressor.fit(X_train, y_train)"
   ]
  },
  {
   "cell_type": "code",
   "execution_count": 40,
   "metadata": {},
   "outputs": [
    {
     "name": "stdout",
     "output_type": "stream",
     "text": [
      "0.0\n",
      "[[-0.00014528  0.000163    0.00039166]]\n",
      "Index(['actual_recipe.bushling', 'actual_recipe.municipal_shred',\n",
      "       'actual_recipe.skulls'],\n",
      "      dtype='object')\n"
     ]
    }
   ],
   "source": [
    "#To retrieve the intercept:\n",
    "print(CUregressor.intercept_)\n",
    "#For retrieving the slope:\n",
    "print(CUregressor.coef_)\n",
    "\n",
    "print(X.columns)"
   ]
  },
  {
   "cell_type": "code",
   "execution_count": 19,
   "metadata": {},
   "outputs": [],
   "source": [
    "y_pred = regressor.predict(X_test)"
   ]
  },
  {
   "cell_type": "code",
   "execution_count": 20,
   "metadata": {},
   "outputs": [
    {
     "name": "stdout",
     "output_type": "stream",
     "text": [
      "[[0.10322967]\n",
      " [0.1052201 ]\n",
      " [0.11864354]]\n",
      "[[0.104]\n",
      " [0.114]\n",
      " [0.124]]\n"
     ]
    }
   ],
   "source": [
    "print(y_pred)\n",
    "print(y_test)"
   ]
  },
  {
   "cell_type": "code",
   "execution_count": 21,
   "metadata": {},
   "outputs": [
    {
     "name": "stdout",
     "output_type": "stream",
     "text": [
      "0.0\n",
      "[[0.97110227 0.66379098 1.01354129 0.83646812]]\n"
     ]
    }
   ],
   "source": [
    "X = prev_heats[['actual_recipe.bushling','actual_recipe.pig_iron','actual_recipe.municipal_shred','actual_recipe.skulls']]\n",
    "y = prev_heats.loc[:, ['tap_weight']]\n",
    "X_train, X_test, y_train, y_test = train_test_split(X.values, y.values, test_size=0.2, random_state=10)\n",
    "regressor = LinearRegression(fit_intercept=False)\n",
    "regressor.fit(X_train, y_train)\n",
    "#To retrieve the intercept:\n",
    "print(regressor.intercept_)\n",
    "#For retrieving the slope:\n",
    "print(regressor.coef_)\n"
   ]
  },
  {
   "cell_type": "code",
   "execution_count": 22,
   "metadata": {},
   "outputs": [
    {
     "name": "stdout",
     "output_type": "stream",
     "text": [
      "[[946.12195122]\n",
      " [939.3902439 ]\n",
      " [941.51219512]]\n",
      "[[935]\n",
      " [965]\n",
      " [955]]\n"
     ]
    }
   ],
   "source": [
    "y_pred = regressor.predict(X_test)\n",
    "print(y_pred)\n",
    "print(y_test)"
   ]
  },
  {
   "cell_type": "code",
   "execution_count": 23,
   "metadata": {},
   "outputs": [
    {
     "name": "stdout",
     "output_type": "stream",
     "text": [
      "[[300 200 350 200]\n",
      " [250 200 350 250]\n",
      " [200 200 400 250]]\n"
     ]
    }
   ],
   "source": [
    "print(X_test)"
   ]
  },
  {
   "cell_type": "code",
   "execution_count": 24,
   "metadata": {},
   "outputs": [],
   "source": [
    "from scipy.optimize import curve_fit\n",
    "import scipy"
   ]
  },
  {
   "cell_type": "code",
   "execution_count": 25,
   "metadata": {},
   "outputs": [
    {
     "data": {
      "text/plain": [
       "array([[275, 250, 300, 250, 275, 200, 200, 300, 300, 300, 200, 250],\n",
       "       [200, 200, 200, 200, 200, 200, 200, 200, 200, 200, 200, 200],\n",
       "       [350, 350, 300, 350, 350, 400, 400, 300, 350, 350, 400, 350],\n",
       "       [225, 250, 250, 250, 225, 250, 250, 250, 200, 200, 250, 250]],\n",
       "      dtype=int64)"
      ]
     },
     "execution_count": 25,
     "metadata": {},
     "output_type": "execute_result"
    }
   ],
   "source": [
    "X_train_scy = np.transpose(X_train)\n",
    "X_train_scy = np.squeeze(X_train_scy)\n",
    "X_train_scy"
   ]
  },
  {
   "cell_type": "code",
   "execution_count": 26,
   "metadata": {},
   "outputs": [
    {
     "data": {
      "text/plain": [
       "array([930, 940, 940, 955, 910, 945, 925, 920, 970, 945, 940, 975],\n",
       "      dtype=int64)"
      ]
     },
     "execution_count": 26,
     "metadata": {},
     "output_type": "execute_result"
    }
   ],
   "source": [
    "y_train_scy = np.transpose(y_train)\n",
    "y_train_scy = np.squeeze(y_train_scy)\n",
    "y_train_scy"
   ]
  },
  {
   "cell_type": "code",
   "execution_count": 27,
   "metadata": {},
   "outputs": [
    {
     "name": "stdout",
     "output_type": "stream",
     "text": [
      "[0.90508707 0.94435555 0.9475261  0.77045293]\n"
     ]
    }
   ],
   "source": [
    "def fn(x, b, c, d, e):\n",
    "    return b*x[0] + c*x[1] + d*x[2] + e*x[3]\n",
    "\n",
    "popt, pcov = curve_fit(fn, X_train_scy, y_train_scy, bounds=(0, 1))\n",
    "print(popt)"
   ]
  },
  {
   "cell_type": "code",
   "execution_count": 28,
   "metadata": {},
   "outputs": [],
   "source": [
    "def yieldmodel(x):\n",
    "    return 0.90508707*x[0] + 0.94435555*x[1] + 0.947526*x[2] + 0.77045293*x[3]"
   ]
  },
  {
   "cell_type": "code",
   "execution_count": 29,
   "metadata": {},
   "outputs": [
    {
     "data": {
      "text/plain": [
       "array([[300, 250, 200],\n",
       "       [200, 200, 200],\n",
       "       [350, 350, 400],\n",
       "       [200, 250, 250]], dtype=int64)"
      ]
     },
     "execution_count": 29,
     "metadata": {},
     "output_type": "execute_result"
    }
   ],
   "source": [
    "x_test_scy = np.transpose(X_test)\n",
    "x_test_scy = np.squeeze(x_test_scy)\n",
    "x_test_scy"
   ]
  },
  {
   "cell_type": "code",
   "execution_count": 30,
   "metadata": {},
   "outputs": [
    {
     "data": {
      "text/plain": [
       "array([946.121917 , 939.39021  , 941.5121565])"
      ]
     },
     "execution_count": 30,
     "metadata": {},
     "output_type": "execute_result"
    }
   ],
   "source": [
    "yieldmodel(x_test_scy)"
   ]
  },
  {
   "cell_type": "code",
   "execution_count": 31,
   "metadata": {},
   "outputs": [
    {
     "name": "stdout",
     "output_type": "stream",
     "text": [
      "[[935]\n",
      " [965]\n",
      " [955]]\n"
     ]
    }
   ],
   "source": [
    "print(y_test)"
   ]
  },
  {
   "cell_type": "code",
   "execution_count": 43,
   "metadata": {},
   "outputs": [],
   "source": [
    "cu_bushling = CUregressor.coef_[0][0]\n",
    "cu_pig_iron = 0\n",
    "cu_municipal_shred = CUregressor.coef_[0][1]\n",
    "cu_skulls = CUregressor.coef_[0][2]"
   ]
  },
  {
   "cell_type": "code",
   "execution_count": 44,
   "metadata": {},
   "outputs": [],
   "source": [
    "yield_bushling = popt[0]\n",
    "yield_pig_iron = popt[1]\n",
    "yield_municipal_shred = popt[2]\n",
    "yield_skulls = popt[3]"
   ]
  },
  {
   "cell_type": "code",
   "execution_count": 45,
   "metadata": {},
   "outputs": [
    {
     "data": {
      "text/plain": [
       "scrap_type\n",
       "bushling            88.333333\n",
       "municipal_shred     41.666667\n",
       "pig_iron           154.166667\n",
       "skulls              71.666667\n",
       "Name: price_per_ton, dtype: float64"
      ]
     },
     "execution_count": 45,
     "metadata": {},
     "output_type": "execute_result"
    }
   ],
   "source": [
    "scrap_prices.head()"
   ]
  },
  {
   "cell_type": "code",
   "execution_count": 59,
   "metadata": {},
   "outputs": [],
   "source": [
    "some_tap_weight = 990\n",
    "cu_steel_grade = 0.15"
   ]
  },
  {
   "cell_type": "code",
   "execution_count": 65,
   "metadata": {},
   "outputs": [
    {
     "data": {
      "text/plain": [
       "1"
      ]
     },
     "execution_count": 65,
     "metadata": {},
     "output_type": "execute_result"
    }
   ],
   "source": [
    "# import PuLP\n",
    "from pulp import *\n",
    "\n",
    "# Create the 'prob' variable to contain the problem data\n",
    "prob = LpProblem(\"Cost of Scrap in Steel Grade Recipes\", LpMinimize)\n",
    "\n",
    "# Create problem variables\n",
    "bushlings_wgt=LpVariable(\"bushlings_wgt\",lowBound=200,upBound=None, cat='Continuous')\n",
    "pig_iron_wgt=LpVariable(\"pig_iron_wgt\",lowBound=100, upBound=300, cat='Continuous')\n",
    "municipal_shred_wgt=LpVariable(\"municipal_shred_wgt\",lowBound=0,upBound=None, cat='Continuous')\n",
    "skulls_wgt=LpVariable(\"skulls_wgt\",lowBound=0, upBound=None, cat='Continuous')\n",
    "\n",
    "\n",
    "# The objective function is added to 'prob' first\n",
    "prob += scrap_prices.bushling*bushlings_wgt + scrap_prices.pig_iron*pig_iron_wgt + scrap_prices.municipal_shred*municipal_shred_wgt + scrap_prices.skulls*skulls_wgt, \"cost; to be minimized\"\n",
    "# The two constraints are entered\n",
    "prob += yield_bushling*bushlings_wgt + yield_pig_iron*pig_iron_wgt + yield_municipal_shred*municipal_shred_wgt + yield_skulls*skulls_wgt == some_tap_weight, \"YIELD constraint\"\n",
    "prob += cu_bushling*bushlings_wgt + cu_pig_iron*pig_iron_wgt + cu_municipal_shred*municipal_shred_wgt + cu_skulls*skulls_wgt <= cu_steel_grade, \"Cu constraint\"\n",
    "\n",
    "# The problem data is written to an .lp file\n",
    "prob.writeLP(\"Scrap_recipes.lp\")\n",
    "\n",
    "# The problem is solved using PuLP's choice of Solver\n",
    "prob.solve()"
   ]
  },
  {
   "cell_type": "code",
   "execution_count": 66,
   "metadata": {},
   "outputs": [
    {
     "name": "stdout",
     "output_type": "stream",
     "text": [
      "bushlings_wgt = 200.0\n",
      "municipal_shred_wgt = 754.11857\n",
      "pig_iron_wgt = 100.0\n",
      "skulls_wgt = 0.0\n"
     ]
    }
   ],
   "source": [
    "for v in prob.variables():\n",
    "    print(v.name, \"=\", v.varValue)"
   ]
  },
  {
   "cell_type": "code",
   "execution_count": null,
   "metadata": {},
   "outputs": [],
   "source": []
  }
 ],
 "metadata": {
  "kernelspec": {
   "display_name": "Python 3",
   "language": "python",
   "name": "python3"
  },
  "language_info": {
   "codemirror_mode": {
    "name": "ipython",
    "version": 3
   },
   "file_extension": ".py",
   "mimetype": "text/x-python",
   "name": "python",
   "nbconvert_exporter": "python",
   "pygments_lexer": "ipython3",
   "version": "3.7.3"
  },
  "pycharm": {
   "stem_cell": {
    "cell_type": "raw",
    "metadata": {
     "collapsed": false
    },
    "source": []
   }
  }
 },
 "nbformat": 4,
 "nbformat_minor": 2
}
