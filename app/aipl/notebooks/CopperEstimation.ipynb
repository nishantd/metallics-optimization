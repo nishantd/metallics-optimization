{
 "cells": [
  {
   "cell_type": "code",
   "execution_count": 1,
   "metadata": {},
   "outputs": [
    {
     "ename": "ModuleNotFoundError",
     "evalue": "No module named 'pandas'",
     "output_type": "error",
     "traceback": [
      "\u001b[1;31m---------------------------------------------------------------------------\u001b[0m",
      "\u001b[1;31mModuleNotFoundError\u001b[0m                       Traceback (most recent call last)",
      "\u001b[1;32m<ipython-input-1-9a8bd02c10a7>\u001b[0m in \u001b[0;36m<module>\u001b[1;34m\u001b[0m\n\u001b[1;32m----> 1\u001b[1;33m \u001b[1;32mimport\u001b[0m \u001b[0mpandas\u001b[0m \u001b[1;32mas\u001b[0m \u001b[0mpd\u001b[0m\u001b[1;33m\u001b[0m\u001b[1;33m\u001b[0m\u001b[0m\n\u001b[0m\u001b[0;32m      2\u001b[0m \u001b[1;32mimport\u001b[0m \u001b[0mjson\u001b[0m\u001b[1;33m\u001b[0m\u001b[1;33m\u001b[0m\u001b[0m\n\u001b[0;32m      3\u001b[0m \u001b[1;32mimport\u001b[0m \u001b[0mnumpy\u001b[0m \u001b[1;32mas\u001b[0m \u001b[0mnp\u001b[0m\u001b[1;33m\u001b[0m\u001b[1;33m\u001b[0m\u001b[0m\n\u001b[0;32m      4\u001b[0m \u001b[1;33m\u001b[0m\u001b[0m\n\u001b[0;32m      5\u001b[0m \u001b[0mdata_path\u001b[0m \u001b[1;33m=\u001b[0m \u001b[1;34mr'../data/1/previous_heats_with_properties.json'\u001b[0m\u001b[1;33m\u001b[0m\u001b[1;33m\u001b[0m\u001b[0m\n",
      "\u001b[1;31mModuleNotFoundError\u001b[0m: No module named 'pandas'"
     ]
    }
   ],
   "source": [
    "import pandas as pd\n",
    "import json\n",
    "import numpy as np\n",
    "\n",
    "data_path = r'../data/1/previous_heats_with_properties.json'\n",
    "\n",
    "with open(data_path, 'r') as datafile:\n",
    "    data = json.load(datafile)\n",
    "df = pd.DataFrame(data)\n",
    "\n",
    "df.head(10)"
   ]
  },
  {
   "cell_type": "code",
   "execution_count": null,
   "metadata": {},
   "outputs": [],
   "source": [
    "df_1 = df.actual_recipe\n",
    "df_2 = df.chemistry\n",
    "\n",
    "ls_1 = list(df_1)\n",
    "ls_2 = list(df_2)\n",
    "df_rec = pd.DataFrame.from_dict(ls_1)\n",
    "df_sg = pd.DataFrame.from_dict(ls_2)\n",
    "df.drop(columns=['actual_recipe', 'chemistry'], inplace=True)\n",
    "merged_df = pd.concat([df, df_rec, df_sg], axis=1)\n",
    "\n",
    "merged_df.head(10)"
   ]
  },
  {
   "cell_type": "code",
   "execution_count": null,
   "metadata": {},
   "outputs": [],
   "source": [
    "from pandas import DataFrame\n",
    "from sklearn import linear_model\n",
    "import statsmodels.api as sm"
   ]
  },
  {
   "cell_type": "code",
   "execution_count": null,
   "metadata": {},
   "outputs": [],
   "source": [
    "x = merged_df[[\"bushling\",\"pig_iron\", \"municipal_shred\", \"skulls\"]]\n",
    "\n",
    "\n",
    "#x.divide(merged_df[\"tap_weight\"], axis=0)"
   ]
  },
  {
   "cell_type": "code",
   "execution_count": null,
   "metadata": {},
   "outputs": [],
   "source": [
    "y = merged_df[\"cu_pct\"]\n",
    "\n",
    "# with statsmodels\n",
    "#x_train = sm.add_constant(x_train) # adding a constant\n",
    " \n",
    "model = sm.OLS(y, x).fit()"
   ]
  },
  {
   "cell_type": "code",
   "execution_count": null,
   "metadata": {},
   "outputs": [],
   "source": [
    "predictions = model.predict([300,100,0,500]) \n",
    " \n",
    "print_model = model.summary()\n",
    "print(predictions)"
   ]
  },
  {
   "cell_type": "code",
   "execution_count": null,
   "metadata": {},
   "outputs": [],
   "source": [
    "# with sklearn\n",
    "regr = linear_model.LinearRegression()\n",
    "regr.fit(x, y)\n",
    "\n",
    "print('Intercept: \\n', regr.intercept_)\n",
    "print('Coefficients: \\n', regr.coef_)"
   ]
  },
  {
   "cell_type": "code",
   "execution_count": null,
   "metadata": {},
   "outputs": [],
   "source": [
    "# tarining data\n",
    "\n",
    "\n",
    "merged_df = pd.concat([df, df_rec, df_sg], axis=1)\n",
    "merged_df.replace('ST1', 1, inplace=True)\n",
    "merged_df.replace('ST2', 2, inplace=True)\n",
    "merged_df.replace('ST3', 3, inplace=True)\n",
    "col_name = list(merged_df.columns)\n",
    "merged_df.drop(columns=['heat_id'], inplace=True)\n",
    "print(col_name)\n",
    "print(len(col_name))\n",
    "\n",
    "np_arr = merged_df.to_numpy()\n",
    "x = np_arr[::,:-1]\n",
    "y = np_arr[::,-1]\n",
    "x_train = x[:-2]\n",
    "y_train = y[:-2]\n",
    "x_test = x[-2:]\n",
    "y_test = y[-2:]\n",
    "print(x_test)\n",
    "print(y_test)"
   ]
  },
  {
   "cell_type": "code",
   "execution_count": null,
   "metadata": {},
   "outputs": [],
   "source": [
    "x.drop(columns=['heat_id', 'heat_seq', 'required_weight', 'tap_weight', 'actual_recipe', 'chemistry',], inplace=True)\n",
    "x.head(10)"
   ]
  },
  {
   "cell_type": "code",
   "execution_count": null,
   "metadata": {},
   "outputs": [],
   "source": [
    "# API\n",
    "\n",
    "\n",
    "import requests\n",
    "\n",
    "external_data = {\n",
    "    \"id\": \"123\",\n",
    "    \"signup_ts\": \"2017-06-01 12:22\",\n",
    "    \"friends\": [1, \"2\", \"3\"],\n",
    "}\n",
    "\n",
    "url = 'http://127.0.0.1:8000/token/'\n",
    "\n",
    "r = requests.post(url, json=external_data)\n",
    "print(r.json())"
   ]
  },
  {
   "cell_type": "code",
   "execution_count": null,
   "metadata": {},
   "outputs": [],
   "source": []
  }
 ],
 "metadata": {
  "kernelspec": {
   "display_name": "Python 3",
   "language": "python",
   "name": "python3"
  },
  "language_info": {
   "codemirror_mode": {
    "name": "ipython",
    "version": 3
   },
   "file_extension": ".py",
   "mimetype": "text/x-python",
   "name": "python",
   "nbconvert_exporter": "python",
   "pygments_lexer": "ipython3",
   "version": "3.7.3"
  }
 },
 "nbformat": 4,
 "nbformat_minor": 2
}
