{
 "cells": [
  {
   "cell_type": "code",
   "execution_count": null,
   "metadata": {
    "pycharm": {}
   },
   "outputs": [],
   "source": [
    "import pandas as pd\n",
    "import json\n",
    "import glob\n",
    "import os\n",
    "import numpy\n",
    "from sklearn.linear_model import Lasso"
   ]
  },
  {
   "cell_type": "code",
   "execution_count": null,
   "metadata": {
    "pycharm": {}
   },
   "outputs": [],
   "source": [
    "def load_data(path):\n",
    "\n",
    "    res = {}\n",
    "    for f in glob.glob(path):\n",
    "        with open(f, \"r\") as fh:\n",
    "            res[os.path.basename(f).replace(\".json\", \"\")] = pd.DataFrame(json.load(fh))\n",
    "\n",
    "    df_prod = res[\"production_schedule\"]\n",
    "    df_prod[\"cu_pct\"] = df_prod[\"chemistry\"].apply(lambda x: x['cu_pct'])\n",
    "    df_prod.drop(\"chemistry\", axis=1, inplace=True)\n",
    "\n",
    "    df_chem = res[\"previous_heats_with_properties\"]\n",
    "    df_chem[\"cu_pct\"] = df_chem[\"chemistry\"].apply(lambda x: x['cu_pct'])\n",
    "    for b in [\"bushling\", \"pig_iron\", 'municipal_shred', 'skulls']:\n",
    "        df_chem[b] = df_chem[\"actual_recipe\"].apply(lambda x: x[b])\n",
    "    \n",
    "    df_chem[\"total_input\"] = df_chem[[\"bushling\", \"pig_iron\", 'municipal_shred', 'skulls']].sum(axis=1)\n",
    "    for b in [\"bushling\", \"pig_iron\", 'municipal_shred', 'skulls']:\n",
    "        df_chem[b] /= df_chem[\"total_input\"]\n",
    "        \n",
    "    df_chem[\"yield\"] = df_chem[\"tap_weight\"] / df_chem[\"total_input\"]\n",
    "    \n",
    "    df_chem.drop(\"chemistry\", axis=1, inplace=True)\n",
    "    df_chem.drop(\"actual_recipe\", axis=1, inplace=True)\n",
    "\n",
    "    df_order = res['scrap_orders']\n",
    "\n",
    "    df_constr = res['constraints']\n",
    "    df_constr = pd.DataFrame(map(lambda x: x[0], df_constr.values.tolist()))\n",
    "    \n",
    "    df_inven = res['scrap_inventory']\n",
    "    \n",
    "    return df_prod, df_chem, df_order, df_constr, df_inven"
   ]
  },
  {
   "cell_type": "code",
   "execution_count": null,
   "metadata": {
    "pycharm": {}
   },
   "outputs": [],
   "source": [
    "df_prod, df_chem, df_order, df_constr, df_inven = load_data(\"data/1/*.json\")\n",
    "df_prod"
   ]
  },
  {
   "cell_type": "code",
   "execution_count": null,
   "metadata": {
    "pycharm": {},
    "scrolled": false
   },
   "outputs": [],
   "source": [
    "df_chem"
   ]
  },
  {
   "cell_type": "markdown",
   "metadata": {
    "pycharm": {}
   },
   "source": [
    "# scrap quality estimation"
   ]
  },
  {
   "cell_type": "markdown",
   "metadata": {
    "pycharm": {}
   },
   "source": [
    "cupper portion estimation"
   ]
  },
  {
   "cell_type": "code",
   "execution_count": null,
   "metadata": {
    "pycharm": {}
   },
   "outputs": [],
   "source": [
    "y = 1-df_chem[\"yield\"].values\n",
    "X = df_chem[[\"bushling\", \"pig_iron\", \"municipal_shred\", \"skulls\"]].values"
   ]
  },
  {
   "cell_type": "code",
   "execution_count": null,
   "metadata": {
    "pycharm": {}
   },
   "outputs": [],
   "source": [
    "trash_share = Lasso(alpha=0.00001,fit_intercept=False,precompute=True,positive=True)\n",
    "trash_share.fit(X,y)"
   ]
  },
  {
   "cell_type": "code",
   "execution_count": null,
   "metadata": {
    "pycharm": {}
   },
   "outputs": [],
   "source": [
    "yield_coef=1-trash_share.coef_\n",
    "yield_coef"
   ]
  },
  {
   "cell_type": "code",
   "execution_count": null,
   "metadata": {
    "pycharm": {}
   },
   "outputs": [],
   "source": [
    "pure_yield = df_chem[[\"bushling\", \"pig_iron\", \"municipal_shred\", \"skulls\"]].values*yield_coef"
   ]
  },
  {
   "cell_type": "code",
   "execution_count": null,
   "metadata": {},
   "outputs": [],
   "source": [
    "pure_yield"
   ]
  },
  {
   "cell_type": "code",
   "execution_count": null,
   "metadata": {
    "pycharm": {}
   },
   "outputs": [],
   "source": [
    "y = df_chem[\"cu_pct\"].values"
   ]
  },
  {
   "cell_type": "code",
   "execution_count": null,
   "metadata": {
    "pycharm": {}
   },
   "outputs": [],
   "source": [
    "a2 = Lasso(alpha=0.00001,fit_intercept=False,precompute=True,positive=True)\n",
    "a2.fit(pure_yield,y)"
   ]
  },
  {
   "cell_type": "code",
   "execution_count": null,
   "metadata": {
    "pycharm": {}
   },
   "outputs": [],
   "source": [
    "a2.coef_ # cupper share"
   ]
  },
  {
   "cell_type": "code",
   "execution_count": null,
   "metadata": {
    "pycharm": {}
   },
   "outputs": [],
   "source": [
    "X"
   ]
  },
  {
   "cell_type": "code",
   "execution_count": null,
   "metadata": {
    "pycharm": {}
   },
   "outputs": [],
   "source": [
    "y"
   ]
  },
  {
   "cell_type": "markdown",
   "metadata": {
    "pycharm": {}
   },
   "source": [
    "yield estimation"
   ]
  },
  {
   "cell_type": "code",
   "execution_count": null,
   "metadata": {
    "pycharm": {}
   },
   "outputs": [],
   "source": [
    "df_order"
   ]
  },
  {
   "cell_type": "code",
   "execution_count": null,
   "metadata": {
    "pycharm": {}
   },
   "outputs": [],
   "source": [
    "df_constr"
   ]
  },
  {
   "cell_type": "code",
   "execution_count": null,
   "metadata": {
    "pycharm": {}
   },
   "outputs": [],
   "source": [
    "df_inven"
   ]
  },
  {
   "cell_type": "code",
   "execution_count": null,
   "metadata": {
    "pycharm": {}
   },
   "outputs": [],
   "source": [
    "totalprice =  numpy.zeros(4)\n",
    "df = df_order[df_order['scrap_type']=='bushling'][['weight','price_per_ton']]\n",
    "p = df['price_per_ton'].values\n",
    "w = df['weight'].values\n",
    "totalprice[0] = sum(p*w)\n",
    "totalprice"
   ]
  },
  {
   "cell_type": "code",
   "execution_count": null,
   "metadata": {},
   "outputs": [],
   "source": [
    "df = df_order[df_order['scrap_type']=='pig_iron'][['weight','price_per_ton']]\n",
    "p = df['price_per_ton'].values\n",
    "w = df['weight'].values\n",
    "totalprice[1] = sum(p*w)\n",
    "totalprice"
   ]
  },
  {
   "cell_type": "code",
   "execution_count": null,
   "metadata": {},
   "outputs": [],
   "source": [
    "df = df_order[df_order['scrap_type']=='municipal_shred'][['weight','price_per_ton']]\n",
    "p = df['price_per_ton'].values\n",
    "w = df['weight'].values\n",
    "totalprice[2] = sum(p*w)\n",
    "totalprice"
   ]
  },
  {
   "cell_type": "code",
   "execution_count": null,
   "metadata": {},
   "outputs": [],
   "source": [
    "df = df_order[df_order['scrap_type']=='skulls'][['weight','price_per_ton']]\n",
    "p = df['price_per_ton'].values\n",
    "w = df['weight'].values\n",
    "totalprice[3] = sum(p*w)\n",
    "totalprice"
   ]
  },
  {
   "cell_type": "code",
   "execution_count": null,
   "metadata": {},
   "outputs": [],
   "source": [
    "totalprice*yield_coef"
   ]
  },
  {
   "cell_type": "code",
   "execution_count": null,
   "metadata": {},
   "outputs": [],
   "source": []
  }
 ],
 "metadata": {
  "kernelspec": {
   "display_name": "Python 3",
   "language": "python",
   "name": "python3"
  },
  "language_info": {
   "codemirror_mode": {
    "name": "ipython",
    "version": 3
   },
   "file_extension": ".py",
   "mimetype": "text/x-python",
   "name": "python",
   "nbconvert_exporter": "python",
   "pygments_lexer": "ipython3",
   "version": "3.7.3"
  }
 },
 "nbformat": 4,
 "nbformat_minor": 2
}
