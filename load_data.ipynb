{
 "cells": [
  {
   "cell_type": "code",
   "execution_count": null,
   "metadata": {},
   "outputs": [],
   "source": [
    "import pandas as pd\n",
    "import json\n",
    "import glob\n",
    "import os\n",
    "import numpy"
   ]
  },
  {
   "cell_type": "code",
   "execution_count": null,
   "metadata": {},
   "outputs": [],
   "source": [
    "def load_data(path):\n",
    "\n",
    "    res = {}\n",
    "    for f in glob.glob(path):\n",
    "        with open(f, \"r\") as fh:\n",
    "            res[os.path.basename(f).replace(\".json\", \"\")] = pd.DataFrame(json.load(fh))\n",
    "\n",
    "    df_prod = res[\"production_schedule\"]\n",
    "    df_prod[\"cu_pct\"] = df_prod[\"chemistry\"].apply(lambda x: x['cu_pct'])\n",
    "    df_prod.drop(\"chemistry\", axis=1, inplace=True)\n",
    "\n",
    "    df_chem = res[\"previous_heats_with_properties\"]\n",
    "    df_chem[\"cu_pct\"] = df_chem[\"chemistry\"].apply(lambda x: x['cu_pct'])\n",
    "    for b in [\"bushling\", \"pig_iron\", 'municipal_shred', 'skulls']:\n",
    "        df_chem[b] = df_chem[\"actual_recipe\"].apply(lambda x: x[b])\n",
    "        \n",
    "    df_chem.drop(\"chemistry\", axis=1, inplace=True)\n",
    "    df_chem.drop(\"actual_recipe\", axis=1, inplace=True)\n",
    "\n",
    "    df_order = res['scrap_orders']\n",
    "\n",
    "    df_constr = res['constraints']\n",
    "    df_constr = pd.DataFrame(map(lambda x: x[0], df_constr.values.tolist()))\n",
    "    \n",
    "    df_inven = res['scrap_inventory']\n",
    "    \n",
    "    return df_prod, df_chem, df_order, df_constr, df_inven"
   ]
  },
  {
   "cell_type": "code",
   "execution_count": null,
   "metadata": {},
   "outputs": [],
   "source": [
    "df_prod, df_chem, df_order, df_constr, df_inven = load_data(\"data/1/*.json\")\n",
    "df_prod"
   ]
  },
  {
   "cell_type": "code",
   "execution_count": null,
   "metadata": {},
   "outputs": [],
   "source": [
    "df_chem"
   ]
  },
  {
   "cell_type": "markdown",
   "metadata": {},
   "source": [
    "# scrap quality estimation"
   ]
  },
  {
   "cell_type": "code",
   "execution_count": null,
   "metadata": {},
   "outputs": [],
   "source": [
    "y = df_chem[\"cu_pct\"].iloc[:4, ].values\n",
    "X = df_chem[[\"bushling\", \"pig_iron\", \"municipal_shred\", \"skulls\"]].iloc[:4, ].values"
   ]
  },
  {
   "cell_type": "code",
   "execution_count": null,
   "metadata": {},
   "outputs": [],
   "source": [
    "a = numpy.linalg.solve(X, y)"
   ]
  },
  {
   "cell_type": "code",
   "execution_count": null,
   "metadata": {},
   "outputs": [],
   "source": [
    "df_order"
   ]
  },
  {
   "cell_type": "code",
   "execution_count": null,
   "metadata": {},
   "outputs": [],
   "source": [
    "df_constr"
   ]
  },
  {
   "cell_type": "code",
   "execution_count": null,
   "metadata": {},
   "outputs": [],
   "source": [
    "df_inven"
   ]
  }
 ],
 "metadata": {
  "kernelspec": {
   "display_name": "Python 3",
   "language": "python",
   "name": "python3"
  },
  "language_info": {
   "codemirror_mode": {
    "name": "ipython",
    "version": 3
   },
   "file_extension": ".py",
   "mimetype": "text/x-python",
   "name": "python",
   "nbconvert_exporter": "python",
   "pygments_lexer": "ipython3",
   "version": "3.7.3"
  }
 },
 "nbformat": 4,
 "nbformat_minor": 2
}
