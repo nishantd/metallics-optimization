{
 "cells": [
  {
   "cell_type": "code",
   "execution_count": null,
   "metadata": {},
   "outputs": [],
   "source": [
    "import pandas as pd\n",
    "import json\n",
    "import glob\n",
    "import os\n",
    "import numpy\n",
    "from scipy.optimize import linprog\n",
    "import numpy as np\n",
    "import tqdm"
   ]
  },
  {
   "cell_type": "code",
   "execution_count": null,
   "metadata": {},
   "outputs": [],
   "source": [
    "def load_data(path):\n",
    "\n",
    "    res = {}\n",
    "    for f in glob.glob(path):\n",
    "        with open(f, \"r\") as fh:\n",
    "            res[os.path.basename(f).replace(\".json\", \"\")] = pd.DataFrame(json.load(fh))\n",
    "\n",
    "    df_prod = res[\"production_schedule\"]\n",
    "    df_prod[\"cu_pct\"] = df_prod[\"chemistry\"].apply(lambda x: x['cu_pct'])\n",
    "    df_prod.drop(\"chemistry\", axis=1, inplace=True)\n",
    "\n",
    "    df_chem = res[\"previous_heats_with_properties\"]\n",
    "    df_chem[\"cu_pct\"] = df_chem[\"chemistry\"].apply(lambda x: x['cu_pct'])\n",
    "    for b in [\"bushling\", \"pig_iron\", 'municipal_shred', 'skulls']:\n",
    "        df_chem[b] = df_chem[\"actual_recipe\"].apply(lambda x: x[b])\n",
    "    \n",
    "    df_chem[\"total_input\"] = df_chem[[\"bushling\", \"pig_iron\", 'municipal_shred', 'skulls']].sum(axis=1)\n",
    "    for b in [\"bushling\", \"pig_iron\", 'municipal_shred', 'skulls']:\n",
    "        df_chem[b] /= df_chem[\"total_input\"]\n",
    "        \n",
    "    df_chem[\"yield\"] = df_chem[\"tap_weight\"] / df_chem[\"total_input\"]\n",
    "    \n",
    "    df_chem.drop(\"chemistry\", axis=1, inplace=True)\n",
    "    df_chem.drop(\"actual_recipe\", axis=1, inplace=True)\n",
    "\n",
    "    df_order = res['scrap_orders']\n",
    "\n",
    "    df_constr = res['constraints']\n",
    "    df_constr = pd.DataFrame(map(lambda x: x[0], df_constr.values.tolist()))\n",
    "    \n",
    "    df_inven = res['scrap_inventory']\n",
    "    \n",
    "    return df_prod, df_chem, df_order, df_constr, df_inven"
   ]
  },
  {
   "cell_type": "code",
   "execution_count": null,
   "metadata": {},
   "outputs": [],
   "source": [
    "df_prod, df_chem, df_order, df_constr, df_inven = load_data(\"data/1/*.json\")\n",
    "df_prod"
   ]
  },
  {
   "cell_type": "code",
   "execution_count": null,
   "metadata": {},
   "outputs": [],
   "source": [
    "df_chem"
   ]
  },
  {
   "cell_type": "markdown",
   "metadata": {},
   "source": [
    "# scrap quality estimation"
   ]
  },
  {
   "cell_type": "code",
   "execution_count": null,
   "metadata": {},
   "outputs": [],
   "source": [
    "y = df_chem[\"cu_pct\"].iloc[:4, ].values\n",
    "X = df_chem[[\"bushling\", \"pig_iron\", \"municipal_shred\", \"skulls\"]].iloc[:4, ].values"
   ]
  },
  {
   "cell_type": "code",
   "execution_count": null,
   "metadata": {},
   "outputs": [],
   "source": [
    "# a = numpy.linalg.solve(X, y)"
   ]
  },
  {
   "cell_type": "code",
   "execution_count": null,
   "metadata": {
    "scrolled": true
   },
   "outputs": [],
   "source": [
    "def get_cost(df_order, df_inv, commodity):\n",
    "    df = df_order.sort_values(\"order_date\", ascending=False)\n",
    "    df = df[df[\"scrap_type\"] == commodity]\n",
    "    return df"
   ]
  },
  {
   "cell_type": "code",
   "execution_count": null,
   "metadata": {},
   "outputs": [],
   "source": [
    "get_cost(df_order, df_inven, \"pig_iron\")"
   ]
  },
  {
   "cell_type": "code",
   "execution_count": null,
   "metadata": {},
   "outputs": [],
   "source": [
    "df_order.sort_values(\"order_date\", ascending=False)"
   ]
  },
  {
   "cell_type": "code",
   "execution_count": null,
   "metadata": {},
   "outputs": [],
   "source": [
    "df_constr"
   ]
  },
  {
   "cell_type": "code",
   "execution_count": null,
   "metadata": {},
   "outputs": [],
   "source": [
    "df_inven"
   ]
  },
  {
   "cell_type": "code",
   "execution_count": null,
   "metadata": {
    "scrolled": true
   },
   "outputs": [],
   "source": [
    "def generate_schedule(commodities=[{\"name\": \"A\", \"price\": 10, \"cu\": 0.01, \"inventory\": 1000, \"yield\": 0.99}, \n",
    "                                   {\"name\": \"B\", \"price\": 20, \"cu\": 0.05, \"inventory\": 1000, \"yield\": 0.95}],\n",
    "                     schedule=[{\"cu\": 0.01, \"weight\": 200}, \n",
    "                               {\"cu\": 0.05, \"weight\": 400},\n",
    "                              {\"cu\": 0.10, \"weight\": 500}]):\n",
    "    \n",
    "    p = [c[\"price\"] for c in commodities] * len(schedule)\n",
    "\n",
    "    print(\"prices\")\n",
    "    print(p)\n",
    "\n",
    "    A_lower = np.repeat([1/s[\"weight\"] for s in schedule], len(commodities)).reshape([-1, len(commodities)]) * np.array([c[\"cu\"] for c in commodities] * len(schedule)).reshape([-1, 2])\n",
    "    b_lower = [s[\"cu\"] for s in schedule]\n",
    "\n",
    "    print(\"A_lower\")\n",
    "    print(A_lower)\n",
    "\n",
    "    A_equal = np.array([c[\"cu\"] for c in commodities * len(schedule)]).reshape(-1, 2) / np.array([s[\"weight\"] for s in schedule]).reshape([1, -1]).transpose()\n",
    "    b_equal = np.array([s[\"cu\"] for s in schedule]).reshape([1, -1]).transpose()\n",
    "\n",
    "    print(\"A_equal\")\n",
    "    print(A_equal)\n",
    "\n",
    "    lb = [0, 0]\n",
    "    lu = [c[\"inventory\"] for c in commodities]\n",
    "\n",
    "    res = linprog(c=p, A_ub=A_lower, b_ub=b_lower, bounds=[lb, lu])\n",
    "\n",
    "    print(res)\n",
    "    \n",
    "generate_schedule()\n",
    "    \n",
    "    \n",
    "    \n",
    "    "
   ]
  },
  {
   "cell_type": "code",
   "execution_count": null,
   "metadata": {},
   "outputs": [],
   "source": [
    "def generate_schedule_random(commodities=[{\"name\": \"A\", \"price\": 10, \"cu\": 0.01, \"inventory\": 1000, \"yield\": 0.99}, \n",
    "                                          {\"name\": \"B\", \"price\": 20, \"cu\": 0.05, \"inventory\": 1000, \"yield\": 0.95}],\n",
    "                     schedule=[{\"cu\": 0.02, \"weight\": 200}, \n",
    "                               {\"cu\": 0.05, \"weight\": 400},\n",
    "                               {\"cu\": 0.10, \"weight\": 500}],\n",
    "                            iterations=10000):\n",
    "    \n",
    "    c_cu = np.array(np.array([c[\"cu\"] for c in commodities]))    \n",
    "    s_cu = np.array(np.array([s[\"cu\"] for s in schedule]))\n",
    "    s_weight = np.array([s[\"weight\"] for s in schedule])\n",
    "    c_inv = np.array([c[\"inventory\"] for c in commodities])\n",
    "    c_price = np.array([c[\"price\"] for c in commodities])\n",
    "    \n",
    "    #print(c_cu)\n",
    "    #print(s_weight)\n",
    "    #print(\"start\")\n",
    "    \n",
    "    \n",
    "    # todo: consider yield\n",
    "    cost = np.inf\n",
    "    cu_predicted = None\n",
    "    res = None\n",
    "    miss = 0\n",
    "    valid = 0\n",
    "    \n",
    "    for _ in tqdm.tqdm(range(iterations)):\n",
    "        \n",
    "        # generate schedule\n",
    "        res_t = []\n",
    "        for s in [s[\"weight\"] for s in schedule]:\n",
    "            res_t.append(np.random.random_integers(0, s, size=len(commodities)))\n",
    "        res_t = np.vstack(res_t)\n",
    "        \n",
    "        # make weights equal to schedule weights by fixing last commodity\n",
    "        res_t[:, -1] = s_weight - res_t[:, :-1].sum(axis=1) \n",
    "        \n",
    "        # check chemistry\n",
    "        cu_predicted_t = res_t.dot(c_cu.transpose()) / s_weight\n",
    "        if not (cu_predicted_t <= s_cu).all():\n",
    "            miss += 1\n",
    "            continue\n",
    "            \n",
    "        # check inventory\n",
    "        used = res_t.sum(axis=0)\n",
    "        if not (used <= c_inv).all():\n",
    "            miss += 1\n",
    "            continue\n",
    "        \n",
    "        valid +=1\n",
    "        cost_temp = np.sum(used * c_price)\n",
    "        \n",
    "        # check if costs are lower\n",
    "        if cost_temp < cost:\n",
    "            res = res_t\n",
    "            cu_predicted = cu_predicted_t\n",
    "            cost = cost_temp\n",
    "\n",
    "    return res, miss, valid, cost_temp, cu_predicted\n",
    "        \n",
    "generate_schedule_random()"
   ]
  },
  {
   "cell_type": "code",
   "execution_count": null,
   "metadata": {},
   "outputs": [],
   "source": []
  }
 ],
 "metadata": {
  "kernelspec": {
   "display_name": "Python 3",
   "language": "python",
   "name": "python3"
  },
  "language_info": {
   "codemirror_mode": {
    "name": "ipython",
    "version": 3
   },
   "file_extension": ".py",
   "mimetype": "text/x-python",
   "name": "python",
   "nbconvert_exporter": "python",
   "pygments_lexer": "ipython3",
   "version": "3.7.3"
  }
 },
 "nbformat": 4,
 "nbformat_minor": 2
}
