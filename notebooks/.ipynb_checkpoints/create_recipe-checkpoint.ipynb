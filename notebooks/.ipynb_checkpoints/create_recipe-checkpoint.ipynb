{
 "cells": [
  {
   "cell_type": "code",
   "execution_count": 1,
   "metadata": {
    "ExecuteTime": {
     "end_time": "2019-11-19T19:20:33.682080Z",
     "start_time": "2019-11-19T19:20:33.332523Z"
    }
   },
   "outputs": [],
   "source": [
    "import pandas as pd "
   ]
  },
  {
   "cell_type": "code",
   "execution_count": 2,
   "metadata": {
    "ExecuteTime": {
     "end_time": "2019-11-19T19:20:34.083334Z",
     "start_time": "2019-11-19T19:20:34.068881Z"
    }
   },
   "outputs": [],
   "source": [
    "recipes_wgt1000 = [\n",
    "                  {\"bushling\":300, \"pig_iron\":200, \"municipal_shred\":300, \"skulls\":200},\n",
    "                  {\"bushling\":290, \"pig_iron\":210, \"municipal_shred\":300, \"skulls\":200},\n",
    "                  {\"bushling\":250, \"pig_iron\":220, \"municipal_shred\":330, \"skulls\":200},\n",
    "                  {\"bushling\":270, \"pig_iron\":260, \"municipal_shred\":270, \"skulls\":200},\n",
    "                  {\"bushling\":220, \"pig_iron\":190, \"municipal_shred\":350, \"skulls\":240},\n",
    "                  {\"bushling\":250, \"pig_iron\":250, \"municipal_shred\":300, \"skulls\":200},\n",
    "                  {\"bushling\":240, \"pig_iron\":160, \"municipal_shred\":340, \"skulls\":260},\n",
    "                  {\"bushling\":230, \"pig_iron\":270, \"municipal_shred\":320, \"skulls\":180},\n",
    "                  {\"bushling\":220, \"pig_iron\":180, \"municipal_shred\":400, \"skulls\":200},\n",
    "                  {\"bushling\":210, \"pig_iron\":290, \"municipal_shred\":380, \"skulls\":220},\n",
    "                  ]\n",
    "\n",
    "recipes_wgt1100 = [\n",
    "                  {\"bushling\":310, \"pig_iron\":240, \"municipal_shred\":310, \"skulls\":240},\n",
    "                  {\"bushling\":270, \"pig_iron\":270, \"municipal_shred\":330, \"skulls\":230},\n",
    "                  {\"bushling\":280, \"pig_iron\":250, \"municipal_shred\":360, \"skulls\":210},\n",
    "                  {\"bushling\":270, \"pig_iron\":260, \"municipal_shred\":290, \"skulls\":280},\n",
    "                  {\"bushling\":250, \"pig_iron\":260, \"municipal_shred\":350, \"skulls\":240},\n",
    "                  {\"bushling\":290, \"pig_iron\":200, \"municipal_shred\":360, \"skulls\":250},\n",
    "                  {\"bushling\":240, \"pig_iron\":210, \"municipal_shred\":390, \"skulls\":260},\n",
    "                  {\"bushling\":270, \"pig_iron\":270, \"municipal_shred\":380, \"skulls\":180},\n",
    "                  {\"bushling\":220, \"pig_iron\":180, \"municipal_shred\":450, \"skulls\":250},\n",
    "                  {\"bushling\":280, \"pig_iron\":190, \"municipal_shred\":410, \"skulls\":220},\n",
    "                  ]\n",
    "\n",
    "recipes_wgt1200 = [\n",
    "                  {\"bushling\":290, \"pig_iron\":260, \"municipal_shred\":450, \"skulls\":200},\n",
    "                  {\"bushling\":290, \"pig_iron\":270, \"municipal_shred\":420, \"skulls\":220},\n",
    "                  {\"bushling\":380, \"pig_iron\":250, \"municipal_shred\":350, \"skulls\":220},\n",
    "                  {\"bushling\":370, \"pig_iron\":240, \"municipal_shred\":380, \"skulls\":210},\n",
    "                  {\"bushling\":360, \"pig_iron\":250, \"municipal_shred\":360, \"skulls\":230},\n",
    "                  {\"bushling\":350, \"pig_iron\":270, \"municipal_shred\":350, \"skulls\":240},\n",
    "                  {\"bushling\":300, \"pig_iron\":270, \"municipal_shred\":380, \"skulls\":250},\n",
    "                  {\"bushling\":290, \"pig_iron\":280, \"municipal_shred\":390, \"skulls\":240},\n",
    "                  {\"bushling\":290, \"pig_iron\":220, \"municipal_shred\":410, \"skulls\":280},\n",
    "                  {\"bushling\":310, \"pig_iron\":190, \"municipal_shred\":450, \"skulls\":250},\n",
    "                  ]\n",
    "\n",
    "def create_recipe(recipes_wgt1000,recipes_wgt1100, recipes_wgt1200 ):\n",
    "    recipe_list = pd.DataFrame({'recipes_wgt1000': recipes_wgt1000, 'recipes_wgt1100': recipes_wgt1100,\n",
    "                            'recipes_wgt1200': recipes_wgt1200, }, columns=['recipes_wgt1000', 'recipes_wgt1100', 'recipes_wgt1200'])\n",
    "    return recipe_list\n"
   ]
  }
 ],
 "metadata": {
  "kernelspec": {
   "display_name": "Python 3",
   "language": "python",
   "name": "python3"
  },
  "language_info": {
   "codemirror_mode": {
    "name": "ipython",
    "version": 3
   },
   "file_extension": ".py",
   "mimetype": "text/x-python",
   "name": "python",
   "nbconvert_exporter": "python",
   "pygments_lexer": "ipython3",
   "version": "3.7.3"
  }
 },
 "nbformat": 4,
 "nbformat_minor": 2
}
