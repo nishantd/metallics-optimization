{
 "cells": [
  {
   "cell_type": "code",
   "execution_count": 1,
   "metadata": {
    "ExecuteTime": {
     "end_time": "2019-11-19T01:47:45.809624Z",
     "start_time": "2019-11-19T01:47:45.021758Z"
    }
   },
   "outputs": [],
   "source": [
    "from matplotlib import pyplot as plt\n",
    "import pandas as pd \n",
    "import numpy as np\n",
    "import seaborn as sns\n",
    "import pickle\n",
    "from sklearn.model_selection import train_test_split \n",
    "from sklearn.linear_model import LinearRegression\n",
    "from sklearn import metrics\n",
    "\n",
    "DATAFILE = '../data/1/previous_heats_with_properties.json'\n",
    "scrap = ['bushling','pig_iron','municipal_shred','skulls']"
   ]
  },
  {
   "cell_type": "code",
   "execution_count": 2,
   "metadata": {
    "ExecuteTime": {
     "end_time": "2019-11-19T01:47:45.814392Z",
     "start_time": "2019-11-19T01:47:45.811485Z"
    }
   },
   "outputs": [],
   "source": [
    "def load_data(datafile):\n",
    "    \"\"\"loads the .json file as dataframe\n",
    "    \n",
    "    args:\n",
    "        datafile: file path\n",
    "        \n",
    "    returns: \n",
    "        dataframe\n",
    "    \"\"\"\n",
    "    df_previous_heat = pd.read_json (datafile)\n",
    "    return df_previous_heat"
   ]
  },
  {
   "cell_type": "code",
   "execution_count": 3,
   "metadata": {
    "ExecuteTime": {
     "end_time": "2019-11-19T01:47:45.822157Z",
     "start_time": "2019-11-19T01:47:45.816165Z"
    }
   },
   "outputs": [],
   "source": [
    "def data_preprocessing(df):\n",
    "    \"\"\"clean up the data and process it before considering\n",
    "    \n",
    "    args:\n",
    "        df : dataframe\n",
    "        \n",
    "    returns: \n",
    "        df: processed dataframe\n",
    "    \"\"\"\n",
    "    df['cu_pct'] =   pd.DataFrame(df.chemistry.values.tolist(), \n",
    "                                            index= df.index)\n",
    "    df[scrap] = pd.DataFrame(df.actual_recipe.values.tolist(), \n",
    "                                            index= df.index)\n",
    "    df = df.drop(['chemistry','actual_recipe'], axis=1)\n",
    "    df['scrap_wgt'] = df[['bushling','pig_iron','municipal_shred','skulls']].sum(axis=1)\n",
    "    df['total_wgt'] = df[scrap].sum(axis=1)\n",
    "    df['steel_grade'] = df[['steel_grade']].replace(['ST1','ST2','ST3'], [1,2,3])\n",
    "    for val in scrap:   \n",
    "        df[val+'_norm'] = df[val]/df['total_wgt']\n",
    "    return df"
   ]
  },
  {
   "cell_type": "code",
   "execution_count": 4,
   "metadata": {
    "ExecuteTime": {
     "end_time": "2019-11-19T01:47:45.826162Z",
     "start_time": "2019-11-19T01:47:45.823481Z"
    }
   },
   "outputs": [],
   "source": [
    "def plot_me(df):\n",
    "    \"\"\"plots the grapgh\n",
    "    \n",
    "    args:\n",
    "        df : data to plot\n",
    "    \"\"\"\n",
    "    df.plot(x = 'cu_pct', y = scrap, kind=\"bar\")\n",
    "    "
   ]
  },
  {
   "cell_type": "code",
   "execution_count": 5,
   "metadata": {
    "ExecuteTime": {
     "end_time": "2019-11-19T01:47:45.831246Z",
     "start_time": "2019-11-19T01:47:45.827578Z"
    }
   },
   "outputs": [],
   "source": [
    "def split_data(df):\n",
    "    \"\"\"Split the data for testing and training\n",
    "    \n",
    "    args:\n",
    "        df: dataframe\n",
    "        \n",
    "    returns: \n",
    "        X_train: input parameters for training the model\n",
    "        X_test:  input parameters for testing the model\n",
    "        y_train: target for the training the model\n",
    "        y_test:  target for testing the model\n",
    "    \"\"\"\n",
    "    x = df[['heat_seq','tap_weight','bushling','pig_iron','municipal_shred','skulls']]\n",
    "    y = df[['cu_pct']]\n",
    "    X_train, X_test, y_train, y_test = train_test_split(x, y, test_size=0.2, random_state=0)\n",
    "    \n",
    "    return X_train, X_test, y_train, y_test\n",
    "\n"
   ]
  },
  {
   "cell_type": "code",
   "execution_count": 6,
   "metadata": {
    "ExecuteTime": {
     "end_time": "2019-11-19T01:47:45.836643Z",
     "start_time": "2019-11-19T01:47:45.832821Z"
    }
   },
   "outputs": [],
   "source": [
    "def cu_estimator_lr(X_train, y_train):\n",
    "    \"\"\"train linear regression model and save it\n",
    "    \n",
    "    args:\n",
    "        X_train: input parameters for training the model\n",
    "        y_train: target for the training the model\n",
    "    \n",
    "    returns:\n",
    "        cu_estimator: trained model \n",
    "        filename: saved model name\n",
    "        \"\"\"\n",
    "   \n",
    "    cu_estimator = LinearRegression()  \n",
    "    cu_estimator= cu_estimator.fit(X_train, y_train)   #training the algorithm\n",
    "    filename = 'cu_estimator_model.sav'\n",
    "    pickle.dump(cu_estimator, open(filename, 'wb'))\n",
    "    return cu_estimator, filename"
   ]
  },
  {
   "cell_type": "code",
   "execution_count": 7,
   "metadata": {
    "ExecuteTime": {
     "end_time": "2019-11-19T01:47:45.841617Z",
     "start_time": "2019-11-19T01:47:45.838787Z"
    }
   },
   "outputs": [],
   "source": [
    "def test_model(filename):\n",
    "    \"\"\"test the model\n",
    "    \n",
    "    args:\n",
    "       filename: name of the saved model\n",
    "    \n",
    "    returns:\n",
    "        y_pred : predicted values\n",
    "        \"\"\"\n",
    "    loaded_model = pickle.load(open(filename, 'rb'))\n",
    "    y_pred = loaded_model.predict(X_test)\n",
    "    return y_pred"
   ]
  },
  {
   "cell_type": "code",
   "execution_count": 8,
   "metadata": {
    "ExecuteTime": {
     "end_time": "2019-11-19T01:47:46.239627Z",
     "start_time": "2019-11-19T01:47:45.843017Z"
    },
    "scrolled": true
   },
   "outputs": [
    {
     "data": {
      "image/png": "[encoded data removed]",
      "text/plain": [
       "<Figure size 432x288 with 1 Axes>"
      ]
     },
     "metadata": {
      "needs_background": "light"
     },
     "output_type": "display_data"
    }
   ],
   "source": [
    "df = load_data(DATAFILE)\n",
    "df = data_preprocessing(df)\n",
    "plot_me(df)"
   ]
  },
  {
   "cell_type": "code",
   "execution_count": 9,
   "metadata": {
    "ExecuteTime": {
     "end_time": "2019-11-19T01:47:46.462558Z",
     "start_time": "2019-11-19T01:47:46.240689Z"
    }
   },
   "outputs": [
    {
     "data": {
      "text/plain": [
       "<matplotlib.axes._subplots.AxesSubplot at 0x12a77bcc0>"
      ]
     },
     "execution_count": 9,
     "metadata": {},
     "output_type": "execute_result"
    },
    {
     "data": {
      "image/png": "[encoded data removed]",
      "text/plain": [
       "<Figure size 432x288 with 2 Axes>"
      ]
     },
     "metadata": {
      "needs_background": "light"
     },
     "output_type": "display_data"
    }
   ],
   "source": [
    "sns.heatmap(df[['steel_grade','bushling_norm','pig_iron_norm','municipal_shred_norm','skulls_norm'] + ['cu_pct']].corr())"
   ]
  },
  {
   "cell_type": "code",
   "execution_count": 10,
   "metadata": {
    "ExecuteTime": {
     "end_time": "2019-11-19T01:47:46.477997Z",
     "start_time": "2019-11-19T01:47:46.464091Z"
    },
    "scrolled": true
   },
   "outputs": [
    {
     "data": {
      "text/html": [
       "<div>\n",
       "<style scoped>\n",
       "    .dataframe tbody tr th:only-of-type {\n",
       "        vertical-align: middle;\n",
       "    }\n",
       "\n",
       "    .dataframe tbody tr th {\n",
       "        vertical-align: top;\n",
       "    }\n",
       "\n",
       "    .dataframe thead th {\n",
       "        text-align: right;\n",
       "    }\n",
       "</style>\n",
       "<table border=\"1\" class=\"dataframe\">\n",
       "  <thead>\n",
       "    <tr style=\"text-align: right;\">\n",
       "      <th></th>\n",
       "      <th>Actual</th>\n",
       "      <th>Predicted</th>\n",
       "    </tr>\n",
       "  </thead>\n",
       "  <tbody>\n",
       "    <tr>\n",
       "      <th>0</th>\n",
       "      <td>0.104</td>\n",
       "      <td>0.103967</td>\n",
       "    </tr>\n",
       "    <tr>\n",
       "      <th>1</th>\n",
       "      <td>0.114</td>\n",
       "      <td>0.101834</td>\n",
       "    </tr>\n",
       "    <tr>\n",
       "      <th>2</th>\n",
       "      <td>0.124</td>\n",
       "      <td>0.119006</td>\n",
       "    </tr>\n",
       "  </tbody>\n",
       "</table>\n",
       "</div>"
      ],
      "text/plain": [
       "   Actual  Predicted\n",
       "0   0.104   0.103967\n",
       "1   0.114   0.101834\n",
       "2   0.124   0.119006"
      ]
     },
     "execution_count": 10,
     "metadata": {},
     "output_type": "execute_result"
    }
   ],
   "source": [
    "X_train, X_test, y_train, y_test = split_data(df)\n",
    "trained_model, name = cu_estimator_lr(X_train, y_train)\n",
    "\n",
    "y_pred = test_model(name)\n",
    "y_test= y_test.to_numpy()\n",
    "df = pd.DataFrame({'Actual': y_test.flatten(), 'Predicted': y_pred.flatten()})\n",
    "df"
   ]
  },
  {
   "cell_type": "code",
   "execution_count": null,
   "metadata": {},
   "outputs": [],
   "source": []
  }
 ],
 "metadata": {
  "kernelspec": {
   "display_name": "Python 3",
   "language": "python",
   "name": "python3"
  },
  "language_info": {
   "codemirror_mode": {
    "name": "ipython",
    "version": 3
   },
   "file_extension": ".py",
   "mimetype": "text/x-python",
   "name": "python",
   "nbconvert_exporter": "python",
   "pygments_lexer": "ipython3",
   "version": "3.7.3"
  }
 },
 "nbformat": 4,
 "nbformat_minor": 2
}
