{
 "cells": [
  {
   "cell_type": "markdown",
   "metadata": {},
   "source": [
    "### Cu Estimator example\n",
    "\n",
    "This notebook demonstrates work of the Copper Estimator.\n",
    "Current version (v1) of the estimator based on the numerical solution of numerical solution of a system of equations. `least_squares` is used as a loss function. Please check [the docs](https://docs.scipy.org/doc/scipy/reference/generated/scipy.optimize.least_squares.html#scipy-optimize-least-squares) for more details.\n",
    "\n",
    "**Important:**\n",
    "Don't forget to install our application as a pip package. Use `pip install -e .` in the project root directory."
   ]
  },
  {
   "cell_type": "code",
   "execution_count": null,
   "metadata": {},
   "outputs": [],
   "source": [
    "import json\n",
    "import os\n",
    "import pandas as pd\n",
    "\n",
    "from src.cu_estimator import CuEstimator\n",
    "from src.yield_estimator import YieldEstimator\n",
    "from src.data_loader import DataLoader\n",
    "from definitions import PATH_DATA_DIRECTORY"
   ]
  },
  {
   "cell_type": "code",
   "execution_count": null,
   "metadata": {},
   "outputs": [],
   "source": [
    "data_loader = DataLoader(os.path.join(PATH_DATA_DIRECTORY, '1'))\n",
    "df = data_loader.df_previous_production\n",
    "\n",
    "df.head()"
   ]
  },
  {
   "cell_type": "markdown",
   "metadata": {},
   "source": [
    "---"
   ]
  },
  {
   "cell_type": "markdown",
   "metadata": {},
   "source": [
    "We need to train the estimator on the dataset."
   ]
  },
  {
   "cell_type": "code",
   "execution_count": null,
   "metadata": {},
   "outputs": [],
   "source": [
    "cu_estimator = CuEstimator()\n",
    "cu_estimator.fit(df)\n",
    "\n",
    "yield_estimator = YieldEstimator()\n",
    "yield_estimator.fit(df)"
   ]
  },
  {
   "cell_type": "markdown",
   "metadata": {},
   "source": [
    "Now we can predict the amount of copper for the given recipe.\n",
    "\n",
    "_In fact, you should never use the same data for train and evaluation=)_"
   ]
  },
  {
   "cell_type": "code",
   "execution_count": null,
   "metadata": {},
   "outputs": [],
   "source": [
    "row = df.iloc[2]\n",
    "\n",
    "predicted_prt = cu_estimator.predict(row)\n",
    "delta = row.cu_pct - predicted_prt\n",
    "print(f'cu_prt: {row.cu_pct}, predicted prt: {predicted_prt} (delta = {delta})')"
   ]
  },
  {
   "cell_type": "markdown",
   "metadata": {},
   "source": [
    "---"
   ]
  },
  {
   "cell_type": "markdown",
   "metadata": {},
   "source": [
    "### Interactive example\n",
    "\n",
    "Here you can try out our estimators with your own input params "
   ]
  },
  {
   "cell_type": "code",
   "execution_count": null,
   "metadata": {},
   "outputs": [],
   "source": [
    "import ipywidgets as widgets\n",
    "from IPython.display import display"
   ]
  },
  {
   "cell_type": "code",
   "execution_count": null,
   "metadata": {},
   "outputs": [],
   "source": [
    "def make_form():\n",
    "    bush = widgets.IntSlider(min=0, max=1000, value=300, step=10, description='Bushlling')\n",
    "    pig_iron = widgets.IntSlider(min=0, max=1000, value=200, step=10, description='Pig Iron')\n",
    "    shred = widgets.IntSlider(min=0, max=1000, value=300, step=10, description='Shred')\n",
    "    skulls = widgets.IntSlider(min=0, max=1000, value=250, step=10, description='Skulls')\n",
    "    grade = widgets.Dropdown(options=['ST1', 'ST2', 'ST3'], value='ST1', description='Steel grade')\n",
    "\n",
    "\n",
    "    def btn_click(_):\n",
    "        row = pd.Series({\n",
    "            'steel_grade': grade.value,\n",
    "            'bushling': bush.value,\n",
    "            'pig_iron': pig_iron.value,\n",
    "            'municipal_shred': shred.value,\n",
    "            'skulls': skulls.value\n",
    "        })\n",
    "        print(f'ST: {grade.value}, '\n",
    "              f'Bushling: {bush.value}, '\n",
    "              f'Pig Iron: {pig_iron.value}, '\n",
    "              f'Shred: {shred.value}, '\n",
    "              f'Skulls: {skulls.value}. '\n",
    "              f'Cu: {cu_estimator.predict(row):.4f}%, '\n",
    "              f'Yield: {yield_estimator.predict(row):.1f}kg')\n",
    "\n",
    "\n",
    "    btn = widgets.Button(description='Predict')\n",
    "    btn.on_click(btn_click)\n",
    "\n",
    "    box = widgets.VBox([bush, pig_iron, shred, skulls, grade, btn])\n",
    "    display(box)"
   ]
  },
  {
   "cell_type": "code",
   "execution_count": null,
   "metadata": {},
   "outputs": [],
   "source": [
    "make_form()"
   ]
  }
 ],
 "metadata": {
  "kernelspec": {
   "display_name": "Python 3",
   "language": "python",
   "name": "python3"
  },
  "language_info": {
   "codemirror_mode": {
    "name": "ipython",
    "version": 3
   },
   "file_extension": ".py",
   "mimetype": "text/x-python",
   "name": "python",
   "nbconvert_exporter": "python",
   "pygments_lexer": "ipython3",
   "version": "3.7.3"
  }
 },
 "nbformat": 4,
 "nbformat_minor": 2
}
