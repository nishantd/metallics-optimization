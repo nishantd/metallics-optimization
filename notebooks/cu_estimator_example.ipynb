{
 "cells": [
  {
   "cell_type": "markdown",
   "metadata": {},
   "source": [
    "### Cu Estimator example\n",
    "\n",
    "This notebook demonstrates work of the Copper Estimator.\n",
    "Current version (v1) of the estimator based on the numerical solution of numerical solution of a system of equations. `least_squares` is used as a loss function. Please check [the docs](https://docs.scipy.org/doc/scipy/reference/generated/scipy.optimize.least_squares.html#scipy-optimize-least-squares) for more details.\n",
    "\n",
    "**Important:**\n",
    "Don't forget to install our application as a pip package. Use `pip install -e .` in the project root directory."
   ]
  },
  {
   "cell_type": "code",
   "execution_count": 4,
   "metadata": {},
   "outputs": [],
   "source": [
    "import json\n",
    "from src.cu_estimator import CuEstimator\n",
    "from pandas.io.json import json_normalize"
   ]
  },
  {
   "cell_type": "code",
   "execution_count": 5,
   "metadata": {},
   "outputs": [
    {
     "data": {
      "text/html": [
       "<div>\n",
       "<style scoped>\n",
       "    .dataframe tbody tr th:only-of-type {\n",
       "        vertical-align: middle;\n",
       "    }\n",
       "\n",
       "    .dataframe tbody tr th {\n",
       "        vertical-align: top;\n",
       "    }\n",
       "\n",
       "    .dataframe thead th {\n",
       "        text-align: right;\n",
       "    }\n",
       "</style>\n",
       "<table border=\"1\" class=\"dataframe\">\n",
       "  <thead>\n",
       "    <tr style=\"text-align: right;\">\n",
       "      <th></th>\n",
       "      <th>heat_seq</th>\n",
       "      <th>heat_id</th>\n",
       "      <th>steel_grade</th>\n",
       "      <th>required_weight</th>\n",
       "      <th>tap_weight</th>\n",
       "      <th>cu_pct</th>\n",
       "      <th>bushling</th>\n",
       "      <th>pig_iron</th>\n",
       "      <th>municipal_shred</th>\n",
       "      <th>skulls</th>\n",
       "    </tr>\n",
       "  </thead>\n",
       "  <tbody>\n",
       "    <tr>\n",
       "      <th>0</th>\n",
       "      <td>51</td>\n",
       "      <td>heat-501</td>\n",
       "      <td>ST1</td>\n",
       "      <td>1000</td>\n",
       "      <td>970</td>\n",
       "      <td>0.095</td>\n",
       "      <td>300</td>\n",
       "      <td>200</td>\n",
       "      <td>350</td>\n",
       "      <td>200</td>\n",
       "    </tr>\n",
       "    <tr>\n",
       "      <th>1</th>\n",
       "      <td>51</td>\n",
       "      <td>heat-502</td>\n",
       "      <td>ST1</td>\n",
       "      <td>1000</td>\n",
       "      <td>920</td>\n",
       "      <td>0.104</td>\n",
       "      <td>300</td>\n",
       "      <td>200</td>\n",
       "      <td>300</td>\n",
       "      <td>250</td>\n",
       "    </tr>\n",
       "    <tr>\n",
       "      <th>2</th>\n",
       "      <td>51</td>\n",
       "      <td>heat-503</td>\n",
       "      <td>ST1</td>\n",
       "      <td>1000</td>\n",
       "      <td>940</td>\n",
       "      <td>0.105</td>\n",
       "      <td>300</td>\n",
       "      <td>200</td>\n",
       "      <td>300</td>\n",
       "      <td>250</td>\n",
       "    </tr>\n",
       "    <tr>\n",
       "      <th>3</th>\n",
       "      <td>51</td>\n",
       "      <td>heat-504</td>\n",
       "      <td>ST1</td>\n",
       "      <td>1000</td>\n",
       "      <td>935</td>\n",
       "      <td>0.089</td>\n",
       "      <td>300</td>\n",
       "      <td>200</td>\n",
       "      <td>350</td>\n",
       "      <td>200</td>\n",
       "    </tr>\n",
       "    <tr>\n",
       "      <th>4</th>\n",
       "      <td>51</td>\n",
       "      <td>heat-505</td>\n",
       "      <td>ST1</td>\n",
       "      <td>1000</td>\n",
       "      <td>945</td>\n",
       "      <td>0.093</td>\n",
       "      <td>300</td>\n",
       "      <td>200</td>\n",
       "      <td>350</td>\n",
       "      <td>200</td>\n",
       "    </tr>\n",
       "  </tbody>\n",
       "</table>\n",
       "</div>"
      ],
      "text/plain": [
       "   heat_seq   heat_id steel_grade  ...  pig_iron  municipal_shred  skulls\n",
       "0        51  heat-501         ST1  ...       200              350     200\n",
       "1        51  heat-502         ST1  ...       200              300     250\n",
       "2        51  heat-503         ST1  ...       200              300     250\n",
       "3        51  heat-504         ST1  ...       200              350     200\n",
       "4        51  heat-505         ST1  ...       200              350     200\n",
       "\n",
       "[5 rows x 10 columns]"
      ]
     },
     "execution_count": 5,
     "metadata": {},
     "output_type": "execute_result"
    }
   ],
   "source": [
    "with open('../data/1/previous_heats_with_properties.json') as f:\n",
    "    data = json.load(f)\n",
    "df = json_normalize(data)\n",
    "df = df.rename(columns=lambda col: col.rpartition('.')[-1])\n",
    "df.head()"
   ]
  },
  {
   "cell_type": "markdown",
   "metadata": {},
   "source": [
    "---"
   ]
  },
  {
   "cell_type": "markdown",
   "metadata": {},
   "source": [
    "We need to train the estimator on the dataset."
   ]
  },
  {
   "cell_type": "code",
   "execution_count": 6,
   "metadata": {},
   "outputs": [],
   "source": [
    "estimator = CuEstimator()\n",
    "estimator.fit(df)"
   ]
  },
  {
   "cell_type": "markdown",
   "metadata": {},
   "source": [
    "Now we can predict the amount of copper for the given recipe.\n",
    "\n",
    "_In fact, you should never use the same data for train and evaluation=)_"
   ]
  },
  {
   "cell_type": "code",
   "execution_count": 9,
   "metadata": {},
   "outputs": [
    {
     "data": {
      "text/plain": [
       "0.10449999984942215"
      ]
     },
     "execution_count": 9,
     "metadata": {},
     "output_type": "execute_result"
    }
   ],
   "source": [
    "estimator.predict(df.iloc[2])"
   ]
  }
 ],
 "metadata": {
  "kernelspec": {
   "display_name": "Python 3",
   "language": "python",
   "name": "python3"
  },
  "language_info": {
   "codemirror_mode": {
    "name": "ipython",
    "version": 3
   },
   "file_extension": ".py",
   "mimetype": "text/x-python",
   "name": "python",
   "nbconvert_exporter": "python",
   "pygments_lexer": "ipython3",
   "version": "3.7.3"
  }
 },
 "nbformat": 4,
 "nbformat_minor": 2
}
