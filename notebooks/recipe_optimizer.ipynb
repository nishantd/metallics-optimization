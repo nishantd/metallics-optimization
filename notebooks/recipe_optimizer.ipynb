{
 "cells": [
  {
   "cell_type": "code",
   "execution_count": null,
   "metadata": {},
   "outputs": [],
   "source": [
    "import json\n",
    "from src.cu_estimator import CuEstimator\n",
    "from pandas.io.json import json_normalize\n",
    "import pandas as pd\n",
    "import numpy as np"
   ]
  },
  {
   "cell_type": "code",
   "execution_count": null,
   "metadata": {},
   "outputs": [],
   "source": [
    "def load_df(path: str):\n",
    "    with open(path) as f:\n",
    "        data = json.load(f)\n",
    "    df = json_normalize(data)\n",
    "    df = df.rename(columns=lambda col: col.rpartition('.')[-1])\n",
    "    return df"
   ]
  },
  {
   "cell_type": "code",
   "execution_count": null,
   "metadata": {},
   "outputs": [],
   "source": [
    "df_prod = load_df('../data/1/previous_heats_with_properties.json')\n",
    "df_prod.head()"
   ]
  },
  {
   "cell_type": "code",
   "execution_count": null,
   "metadata": {},
   "outputs": [],
   "source": [
    "with open('../data/1/constraints.json') as f:\n",
    "    data = json.load(f)['scrap_type_constraints_per_heat']\n",
    "df_cons = pd.DataFrame(data)\n",
    "df_cons.head()"
   ]
  },
  {
   "cell_type": "code",
   "execution_count": null,
   "metadata": {},
   "outputs": [],
   "source": [
    "df_orders = load_df('../data/1/scrap_orders.json')\n",
    "df_orders['price_per_kg'] = df_orders['price_per_ton'] / 1000\n",
    "prices = df_orders.groupby('scrap_type')['price_per_kg'].mean()\n",
    "prices = prices.rename({'bushling':'bushlings'})\n",
    "prices"
   ]
  },
  {
   "cell_type": "markdown",
   "metadata": {},
   "source": [
    "---"
   ]
  },
  {
   "cell_type": "markdown",
   "metadata": {},
   "source": [
    "### Build a system of linear equations and solve its simplex method.\n",
    "**Constrains:**<br>\n",
    " * C(x) = cost function -> min\n",
    " * bush + pig iron + shread + skulls = heat_weight\n",
    " * additional constrains from constraints.json\n",
    " \n",
    " `C(x) = bush*prices[bush] + pig_iron*prices[pig_iron] + ...`"
   ]
  },
  {
   "cell_type": "code",
   "execution_count": null,
   "metadata": {},
   "outputs": [],
   "source": [
    "scraps = ['bushlings', 'pig_iron', 'municipal_shred', 'skulls']"
   ]
  },
  {
   "cell_type": "markdown",
   "metadata": {},
   "source": [
    "Cost function -> minimize"
   ]
  },
  {
   "cell_type": "code",
   "execution_count": null,
   "metadata": {},
   "outputs": [],
   "source": [
    "w = np.array([prices[scrap] for scrap in scraps])\n",
    "w"
   ]
  },
  {
   "cell_type": "markdown",
   "metadata": {},
   "source": [
    "Bushlings + Pig Iron + Shred + Skulls = Heat weight"
   ]
  },
  {
   "cell_type": "code",
   "execution_count": null,
   "metadata": {},
   "outputs": [],
   "source": [
    "def get_mass_constraints(expected_mass):\n",
    "    return [-1]*len(scraps), -expected_mass"
   ]
  },
  {
   "cell_type": "code",
   "execution_count": null,
   "metadata": {},
   "outputs": [],
   "source": [
    "def get_additional_constraints(df: pd.DataFrame):\n",
    "    def parse_constrain(row: pd.Series):        \n",
    "        cons_a = [0]*len(scraps)\n",
    "        \n",
    "        idx = scraps.index(row['scrap_type'])\n",
    "        cons_a[idx] = -1 # constrain for the scrap type\n",
    "                           \n",
    "        multiplier = -1 if row['type']=='minimum' else 1 \n",
    "        cons_b =  multiplier * row['weight']\n",
    "        return cons_a, cons_b\n",
    "\n",
    "    return (parse_constrain(row) for _, row in df.iterrows())"
   ]
  },
  {
   "cell_type": "markdown",
   "metadata": {},
   "source": [
    "Combain all the constrains together"
   ]
  },
  {
   "cell_type": "code",
   "execution_count": null,
   "metadata": {},
   "outputs": [],
   "source": [
    "a_ub = []\n",
    "b_ub = []\n",
    "a_eq = []\n",
    "b_eq = []\n",
    "\n",
    "# optimaze the first record\n",
    "row = df_prod.iloc[0]"
   ]
  },
  {
   "cell_type": "code",
   "execution_count": null,
   "metadata": {},
   "outputs": [],
   "source": [
    "mass_a, mass_b = get_mass_constraints(row['required_weight'])\n",
    "\n",
    "# the mass should be as required\n",
    "a_eq.append(mass_a)\n",
    "b_eq.append(mass_b)"
   ]
  },
  {
   "cell_type": "code",
   "execution_count": null,
   "metadata": {},
   "outputs": [],
   "source": [
    "# the scrap amount should be <= additional limits\n",
    "for cons_a, cons_b in get_additional_constraints(df_cons):\n",
    "    a_ub.append(cons_a)\n",
    "    b_ub.append(cons_b)"
   ]
  },
  {
   "cell_type": "code",
   "execution_count": null,
   "metadata": {},
   "outputs": [],
   "source": [
    "from scipy.optimize import linprog\n",
    "\n",
    "res = linprog(w, A_eq=a_eq, b_eq=b_eq, A_ub=a_ub, b_ub=b_ub, bounds=(0, None))"
   ]
  },
  {
   "cell_type": "code",
   "execution_count": null,
   "metadata": {},
   "outputs": [],
   "source": [
    "res"
   ]
  }
 ],
 "metadata": {
  "kernelspec": {
   "display_name": "Python 3",
   "language": "python",
   "name": "python3"
  },
  "language_info": {
   "codemirror_mode": {
    "name": "ipython",
    "version": 3
   },
   "file_extension": ".py",
   "mimetype": "text/x-python",
   "name": "python",
   "nbconvert_exporter": "python",
   "pygments_lexer": "ipython3",
   "version": "3.7.3"
  }
 },
 "nbformat": 4,
 "nbformat_minor": 2
}
