{
 "cells": [
  {
   "cell_type": "code",
   "execution_count": null,
   "metadata": {},
   "outputs": [],
   "source": [
    "import json\n",
    "from src.cu_estimator import CuEstimator\n",
    "from src.recipe_optimizer import RecipeOptimizer\n",
    "from pandas.io.json import json_normalize\n",
    "import pandas as pd\n",
    "import numpy as np"
   ]
  },
  {
   "cell_type": "markdown",
   "metadata": {},
   "source": [
    "### Read the input datasets"
   ]
  },
  {
   "cell_type": "code",
   "execution_count": null,
   "metadata": {},
   "outputs": [],
   "source": [
    "def load_df(path: str):\n",
    "    with open(path) as f:\n",
    "        data = json.load(f)\n",
    "    df = json_normalize(data)\n",
    "    df = df.rename(columns=lambda col: col.rpartition('.')[-1])\n",
    "    return df"
   ]
  },
  {
   "cell_type": "code",
   "execution_count": null,
   "metadata": {},
   "outputs": [],
   "source": [
    "df_prod = load_df('../data/1/previous_heats_with_properties.json')\n",
    "df_prod.head()"
   ]
  },
  {
   "cell_type": "code",
   "execution_count": null,
   "metadata": {},
   "outputs": [],
   "source": [
    "with open('../data/1/constraints.json') as f:\n",
    "    data = json.load(f)['scrap_type_constraints_per_heat']\n",
    "df_cons = pd.DataFrame(data)\n",
    "df_cons = df_cons.replace('bushlings', 'bushling')\n",
    "df_cons.head()"
   ]
  },
  {
   "cell_type": "code",
   "execution_count": null,
   "metadata": {},
   "outputs": [],
   "source": [
    "df_orders = load_df('../data/1/scrap_orders.json')\n",
    "df_orders['price_per_kg'] = df_orders['price_per_ton'] / 1000\n",
    "prices = df_orders.groupby('scrap_type')['price_per_kg'].mean()\n",
    "\n",
    "prices"
   ]
  },
  {
   "cell_type": "markdown",
   "metadata": {},
   "source": [
    "---"
   ]
  },
  {
   "cell_type": "markdown",
   "metadata": {},
   "source": [
    "### Build a system of linear equations and solve it with simplex method.\n",
    "Current constrains:\n",
    " * Cost function = C(x) -> min\n",
    " * Mass balance = M(x) = Heat_Weight\n",
    " * Cu amount = Cu(x) <= Cu_Percent\n",
    " * Additional mass constrains from the constraints.json\n",
    "\n",
    "Formulas:\n",
    " * Cu(x) = bush_mass * cu_amount[bash] + ... + skulls_mass * cu_amount[skulls]\n",
    " * M(x) = bush_mass + ... + skulls_mass = Heat_Weight\n",
    " * C(x) = bush_mass * price[bash] + ... + skulls_mass * price[skulls]"
   ]
  },
  {
   "cell_type": "code",
   "execution_count": null,
   "metadata": {},
   "outputs": [],
   "source": [
    "cu_estimator = CuEstimator()\n",
    "cu_estimator.fit(df_prod)"
   ]
  },
  {
   "cell_type": "code",
   "execution_count": null,
   "metadata": {},
   "outputs": [],
   "source": [
    "recipe_optimizer = RecipeOptimizer(cu_estimator, df_cons, prices)"
   ]
  },
  {
   "cell_type": "code",
   "execution_count": null,
   "metadata": {},
   "outputs": [],
   "source": [
    "for _, row in df_prod.iterrows():\n",
    "    print(recipe_optimizer.optimize(row).x)"
   ]
  },
  {
   "cell_type": "code",
   "execution_count": null,
   "metadata": {},
   "outputs": [],
   "source": [
    "# TODO: add scrap on hand!"
   ]
  }
 ],
 "metadata": {
  "kernelspec": {
   "display_name": "Python 3",
   "language": "python",
   "name": "python3"
  },
  "language_info": {
   "codemirror_mode": {
    "name": "ipython",
    "version": 3
   },
   "file_extension": ".py",
   "mimetype": "text/x-python",
   "name": "python",
   "nbconvert_exporter": "python",
   "pygments_lexer": "ipython3",
   "version": "3.7.3"
  }
 },
 "nbformat": 4,
 "nbformat_minor": 2
}
