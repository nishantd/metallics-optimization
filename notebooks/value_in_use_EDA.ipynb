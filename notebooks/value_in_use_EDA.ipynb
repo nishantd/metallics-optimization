{
 "cells": [
  {
   "cell_type": "code",
   "execution_count": 246,
   "metadata": {},
   "outputs": [],
   "source": [
    "import pandas as pd\n",
    "import numpy as np\n",
    "import matplotlib.pyplot as plt\n",
    "%matplotlib inline\n",
    "import json\n",
    "import seaborn as sns\n",
    "import pickle"
   ]
  },
  {
   "cell_type": "code",
   "execution_count": 247,
   "metadata": {},
   "outputs": [],
   "source": [
    "#1) Calculate the cost of the scrap by scrap type from PO\n",
    "#2) Calculate the estimated cost of lost yield\n",
    "#3) Calculate the estimated copper breach probability cost"
   ]
  },
  {
   "cell_type": "code",
   "execution_count": 248,
   "metadata": {},
   "outputs": [],
   "source": [
    "constraints = '../data/1/constraints.json'\n",
    "heats_prev = '../data/1/previous_heats_with_properties.json'\n",
    "schedule = '../data/1/production_schedule.json'\n",
    "scrap_inventory = '../data/1/scrap_inventory.json'\n",
    "scrap_orders = '../data/1/scrap_orders.json'\n",
    "\n",
    "with open(constraints) as json_file:\n",
    "    constraints = json.load(json_file)\n",
    "with open(heats_prev) as json_file:\n",
    "    heats_prev = json.load(json_file)\n",
    "with open(schedule) as json_file:\n",
    "    schedule = json.load(json_file)\n",
    "with open(scrap_inventory) as json_file:\n",
    "    scrap_inventory = json.load(json_file)\n",
    "with open(scrap_orders) as json_file:\n",
    "    scrap_orders = json.load(json_file)"
   ]
  },
  {
   "cell_type": "code",
   "execution_count": 249,
   "metadata": {},
   "outputs": [],
   "source": [
    "scrap_orders = pd.DataFrame(scrap_orders)\n",
    "scrap_orders['total_cost'] = scrap_orders['price_per_ton'] * scrap_orders['weight']\n",
    "scrap_orders_grouped = scrap_orders.groupby('scrap_type').sum().reset_index()\n",
    "scrap_orders_grouped['avg_price_per_ton'] = scrap_orders_grouped['total_cost']/scrap_orders_grouped['weight']\n",
    "scrap_cost = dict(zip(scrap_orders_grouped.scrap_type, scrap_orders_grouped.avg_price_per_ton))"
   ]
  },
  {
   "cell_type": "code",
   "execution_count": 250,
   "metadata": {},
   "outputs": [],
   "source": [
    "#2. Cost of lost yield\n",
    "#Assume Hot Rolled Coil is 743.40/ton\n",
    "#If yield is 100%, then you lose 0\n",
    "#if yield is 90% then you lose 10%*total weight input * 743.40 "
   ]
  },
  {
   "cell_type": "code",
   "execution_count": 251,
   "metadata": {},
   "outputs": [],
   "source": [
    "#3. If copper is breached, you lose say 50% of 743.40 per ton * required\n"
   ]
  },
  {
   "cell_type": "code",
   "execution_count": 252,
   "metadata": {},
   "outputs": [],
   "source": [
    "def value_in_use(commodity_inputs, yield_model, copper_model, copper_target, scrap_cost):\n",
    "    \"\"\"\n",
    "    value_in_use: calculate the value in use for a given set of commodity inputs\n",
    "    \n",
    "    inputs: \n",
    "        commodity_inputs - dictionary of scrap_type:scrap weight\n",
    "        yield_model - unpickled yield model\n",
    "        copper_model - unpickled copper model\n",
    "        copper_target - production copper target\n",
    "        scrap_cost - dictionary of scrap_type:scrap cost\n",
    "    outputs:\n",
    "        scrap_cost_total - the totaled scrap cost for the commodities\n",
    "        yield_cost - the cost of lost yield\n",
    "        copper_cost - the cost of copper (NEEDS WORK)\n",
    "        value_in_use - the sum of all of these costs\n",
    "    \"\"\"\n",
    "    total_inputs_weight = sum(commodity_inputs.values())\n",
    "    commodity_inputs_normed = {}\n",
    "    for c in commodities:\n",
    "        commodity_inputs_normed[c] = commodity_inputs[c]/total_inputs_weight\n",
    "    commodity_inputs_normed = pd.DataFrame(commodity_inputs_normed.values()).T\n",
    "    \n",
    "    yield_estimate = yield_model.predict(commodity_inputs_normed)\n",
    "    yield_cost = (1-yield_estimate) * total_inputs_weight * 743.40\n",
    "    \n",
    "    copper_estimate = copper_model.predict(commodity_inputs_normed)\n",
    "    print(copper_estimate)\n",
    "    copper_cost = (copper_target - copper_estimate) * 743.40\n",
    "    \n",
    "    scrap_cost_total = 0\n",
    "    for c in commodities:\n",
    "        scrap_cost_total += commodity_inputs[c] * scrap_cost[c]\n",
    "    value_in_use = yield_cost + copper_cost + scrap_cost_total\n",
    "    return scrap_cost_total, yield_cost, copper_cost, value_in_use"
   ]
  },
  {
   "cell_type": "code",
   "execution_count": 254,
   "metadata": {},
   "outputs": [
    {
     "name": "stdout",
     "output_type": "stream",
     "text": [
      "[0.09286499]\n"
     ]
    },
    {
     "name": "stderr",
     "output_type": "stream",
     "text": [
      "/Users/ajay.anand/anaconda3/lib/python3.7/site-packages/sklearn/base.py:253: UserWarning: Trying to unpickle estimator LinearRegression from version 0.21.2 when using version 0.20.3. This might lead to breaking code or invalid results. Use at your own risk.\n",
      "  UserWarning)\n"
     ]
    },
    {
     "data": {
      "text/plain": [
       "(86740.40404040404,\n",
       " array([79657.77832031]),\n",
       " array([42.47416626]),\n",
       " array([166440.65652698]))"
      ]
     },
     "execution_count": 254,
     "metadata": {},
     "output_type": "execute_result"
    }
   ],
   "source": [
    "commodity_inputs = {\"bushling\":300, \"pig_iron\":200, \"municipal_shred\":350, \"skulls\":200}\n",
    "#Now we must figure out where the commodity inputs will come from\n",
    "\n",
    "y_model = '../application/pickles/yield_model.pickle'\n",
    "y_model = pickle.load(open(y_model, 'rb'))\n",
    "\n",
    "cu_model = '../application/pickles/copper_model.pickle'\n",
    "cu_model = pickle.load(open(cu_model, 'rb'))\n",
    "\n",
    "value_in_use(commodity_inputs, yield_model, cu_model, 0.15, scrap_cost)"
   ]
  },
  {
   "cell_type": "code",
   "execution_count": 242,
   "metadata": {},
   "outputs": [],
   "source": [
    "commodities = ['bushling', 'pig_iron', 'municipal_shred', 'skulls']"
   ]
  },
  {
   "cell_type": "code",
   "execution_count": 222,
   "metadata": {},
   "outputs": [],
   "source": []
  }
 ],
 "metadata": {
  "kernelspec": {
   "display_name": "Python 3",
   "language": "python",
   "name": "python3"
  },
  "language_info": {
   "codemirror_mode": {
    "name": "ipython",
    "version": 3
   },
   "file_extension": ".py",
   "mimetype": "text/x-python",
   "name": "python",
   "nbconvert_exporter": "python",
   "pygments_lexer": "ipython3",
   "version": "3.7.3"
  }
 },
 "nbformat": 4,
 "nbformat_minor": 2
}
