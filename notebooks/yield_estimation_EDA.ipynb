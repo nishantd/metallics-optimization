{
 "cells": [
  {
   "cell_type": "code",
   "execution_count": 4,
   "metadata": {},
   "outputs": [],
   "source": [
    "import pandas as pd\n",
    "import numpy as np\n",
    "import matplotlib.pyplot as plt\n",
    "%matplotlib inline\n",
    "import json"
   ]
  },
  {
   "cell_type": "code",
   "execution_count": 24,
   "metadata": {},
   "outputs": [],
   "source": [
    "constraints = '../data/1/constraints.json'\n",
    "heats_prev = '../data/1/previous_heats_with_properties.json'\n",
    "schedule = '../data/1/production_schedule.json'\n",
    "scrap_inventory = '../data/1/scrap_inventory.json'\n",
    "scrap_orders = '../data/1/scrap_orders.json'"
   ]
  },
  {
   "cell_type": "code",
   "execution_count": 25,
   "metadata": {},
   "outputs": [],
   "source": [
    "with open(constraints) as json_file:\n",
    "    constraints = json.load(json_file)\n",
    "with open(heats_prev) as json_file:\n",
    "    heats_prev = json.load(json_file)\n",
    "with open(schedule) as json_file:\n",
    "    schedule = json.load(json_file)\n",
    "with open(scrap_inventory) as json_file:\n",
    "    scrap_inventory = json.load(json_file)\n",
    "with open(scrap_orders) as json_file:\n",
    "    scrap_orders = json.load(json_file)"
   ]
  },
  {
   "cell_type": "code",
   "execution_count": 28,
   "metadata": {},
   "outputs": [],
   "source": [
    "heats_prev = pd.DataFrame(heats_prev)"
   ]
  },
  {
   "cell_type": "code",
   "execution_count": 33,
   "metadata": {},
   "outputs": [
    {
     "data": {
      "text/plain": [
       "array([{'bushling': 300, 'pig_iron': 200, 'municipal_shred': 350, 'skulls': 200},\n",
       "       {'bushling': 300, 'pig_iron': 200, 'municipal_shred': 300, 'skulls': 250},\n",
       "       {'bushling': 300, 'pig_iron': 200, 'municipal_shred': 300, 'skulls': 250},\n",
       "       {'bushling': 300, 'pig_iron': 200, 'municipal_shred': 350, 'skulls': 200},\n",
       "       {'bushling': 300, 'pig_iron': 200, 'municipal_shred': 350, 'skulls': 200},\n",
       "       {'bushling': 275, 'pig_iron': 200, 'municipal_shred': 350, 'skulls': 225},\n",
       "       {'bushling': 275, 'pig_iron': 200, 'municipal_shred': 350, 'skulls': 225},\n",
       "       {'bushling': 250, 'pig_iron': 200, 'municipal_shred': 350, 'skulls': 250},\n",
       "       {'bushling': 250, 'pig_iron': 200, 'municipal_shred': 350, 'skulls': 250},\n",
       "       {'bushling': 250, 'pig_iron': 200, 'municipal_shred': 350, 'skulls': 250},\n",
       "       {'bushling': 250, 'pig_iron': 200, 'municipal_shred': 350, 'skulls': 250},\n",
       "       {'bushling': 200, 'pig_iron': 200, 'municipal_shred': 400, 'skulls': 250},\n",
       "       {'bushling': 200, 'pig_iron': 200, 'municipal_shred': 400, 'skulls': 250},\n",
       "       {'bushling': 200, 'pig_iron': 200, 'municipal_shred': 400, 'skulls': 250},\n",
       "       {'bushling': 200, 'pig_iron': 200, 'municipal_shred': 400, 'skulls': 250}],\n",
       "      dtype=object)"
      ]
     },
     "execution_count": 33,
     "metadata": {},
     "output_type": "execute_result"
    }
   ],
   "source": [
    "heats_prev['actual_recipe'].values"
   ]
  },
  {
   "cell_type": "code",
   "execution_count": null,
   "metadata": {},
   "outputs": [],
   "source": []
  }
 ],
 "metadata": {
  "kernelspec": {
   "display_name": "Python 3",
   "language": "python",
   "name": "python3"
  },
  "language_info": {
   "codemirror_mode": {
    "name": "ipython",
    "version": 3
   },
   "file_extension": ".py",
   "mimetype": "text/x-python",
   "name": "python",
   "nbconvert_exporter": "python",
   "pygments_lexer": "ipython3",
   "version": "3.7.3"
  }
 },
 "nbformat": 4,
 "nbformat_minor": 2
}
